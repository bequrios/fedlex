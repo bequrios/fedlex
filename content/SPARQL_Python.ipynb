{
  "metadata": {
    "language_info": {
      "codemirror_mode": {
        "name": "python",
        "version": 3
      },
      "file_extension": ".py",
      "mimetype": "text/x-python",
      "name": "python",
      "nbconvert_exporter": "python",
      "pygments_lexer": "ipython3",
      "version": "3.8"
    },
    "kernelspec": {
      "name": "python",
      "display_name": "Python (Pyodide)",
      "language": "python"
    }
  },
  "nbformat_minor": 4,
  "nbformat": 4,
  "cells": [
    {
      "cell_type": "code",
      "source": "import json\nimport pandas as pd\nfrom pyodide.ffi import to_js\nfrom IPython.display import JSON, HTML\nfrom js import Object, fetch\nfrom io import StringIO",
      "metadata": {
        "trusted": true
      },
      "execution_count": 70,
      "outputs": []
    },
    {
      "cell_type": "code",
      "source": "# Resultat als JSON",
      "metadata": {},
      "execution_count": null,
      "outputs": []
    },
    {
      "cell_type": "code",
      "source": "async def query_json(query_string, store = \"L\"):\n    \n    # the three Swiss triplestores\n    if store == \"F\":\n        address = 'https://fedlex.data.admin.ch/sparqlendpoint'\n    elif store == \"G\":\n        address = 'https://geo.ld.admin.ch/query'\n    else:\n        address = 'https://ld.admin.ch/query'\n    \n    try:\n        resp = await fetch(address,\n          method=\"POST\",\n          body=\"query=\" + query_string,\n          credentials=\"same-origin\",\n          headers=Object.fromEntries(to_js({\"Content-Type\": \"application/x-www-form-urlencoded; charset=UTF-8\", \"Accept\": \"application/sparql-results+json\" })),\n        )\n    except Exception:\n        raise Abort()\n    \n    if resp.ok:\n    \n        res = await resp.text()\n\n        try:\n            data_json = json.loads(res)\n        except:\n            print(res)\n\n        df = pd.json_normalize(data_json[\"results\"][\"bindings\"], sep=\"_\")\n\n        return df\n    else:\n        print(resp.status)\n",
      "metadata": {
        "trusted": true
      },
      "execution_count": 65,
      "outputs": []
    },
    {
      "cell_type": "code",
      "source": "df = await query_json(\"SELECT * WHERE {?s ?p ?o.} LIMIT 10\", \"L\")\ndf = HTML(df.to_html(render_links=True, escape=False))\ndisplay(df)",
      "metadata": {
        "trusted": true
      },
      "execution_count": 66,
      "outputs": [
        {
          "output_type": "display_data",
          "data": {
            "text/plain": "<IPython.core.display.HTML object>",
            "text/html": "<table border=\"1\" class=\"dataframe\">\n  <thead>\n    <tr style=\"text-align: right;\">\n      <th></th>\n      <th>p_type</th>\n      <th>p_value</th>\n      <th>s_type</th>\n      <th>s_value</th>\n      <th>o_type</th>\n      <th>o_value</th>\n    </tr>\n  </thead>\n  <tbody>\n    <tr>\n      <th>0</th>\n      <td>uri</td>\n      <td><a href=\"https://gont.ch/canton\" target=\"_blank\">https://gont.ch/canton</a></td>\n      <td>uri</td>\n      <td><a href=\"https://lod.opentransportdata.swiss/didok/8501607\" target=\"_blank\">https://lod.opentransportdata.swiss/didok/8501607</a></td>\n      <td>uri</td>\n      <td><a href=\"http://classifications.data.admin.ch/canton/\" target=\"_blank\">http://classifications.data.admin.ch/canton/</a></td>\n    </tr>\n    <tr>\n      <th>1</th>\n      <td>uri</td>\n      <td><a href=\"https://gont.ch/canton\" target=\"_blank\">https://gont.ch/canton</a></td>\n      <td>uri</td>\n      <td><a href=\"https://lod.opentransportdata.swiss/didok/8501950\" target=\"_blank\">https://lod.opentransportdata.swiss/didok/8501950</a></td>\n      <td>uri</td>\n      <td><a href=\"http://classifications.data.admin.ch/canton/\" target=\"_blank\">http://classifications.data.admin.ch/canton/</a></td>\n    </tr>\n    <tr>\n      <th>2</th>\n      <td>uri</td>\n      <td><a href=\"https://gont.ch/canton\" target=\"_blank\">https://gont.ch/canton</a></td>\n      <td>uri</td>\n      <td><a href=\"https://lod.opentransportdata.swiss/didok/8501611\" target=\"_blank\">https://lod.opentransportdata.swiss/didok/8501611</a></td>\n      <td>uri</td>\n      <td><a href=\"http://classifications.data.admin.ch/canton/\" target=\"_blank\">http://classifications.data.admin.ch/canton/</a></td>\n    </tr>\n    <tr>\n      <th>3</th>\n      <td>uri</td>\n      <td><a href=\"https://gont.ch/canton\" target=\"_blank\">https://gont.ch/canton</a></td>\n      <td>uri</td>\n      <td><a href=\"https://lod.opentransportdata.swiss/didok/8519449\" target=\"_blank\">https://lod.opentransportdata.swiss/didok/8519449</a></td>\n      <td>uri</td>\n      <td><a href=\"http://classifications.data.admin.ch/canton/\" target=\"_blank\">http://classifications.data.admin.ch/canton/</a></td>\n    </tr>\n    <tr>\n      <th>4</th>\n      <td>uri</td>\n      <td><a href=\"https://gont.ch/canton\" target=\"_blank\">https://gont.ch/canton</a></td>\n      <td>uri</td>\n      <td><a href=\"https://lod.opentransportdata.swiss/didok/8505592\" target=\"_blank\">https://lod.opentransportdata.swiss/didok/8505592</a></td>\n      <td>uri</td>\n      <td><a href=\"http://classifications.data.admin.ch/canton/\" target=\"_blank\">http://classifications.data.admin.ch/canton/</a></td>\n    </tr>\n    <tr>\n      <th>5</th>\n      <td>uri</td>\n      <td><a href=\"https://gont.ch/canton\" target=\"_blank\">https://gont.ch/canton</a></td>\n      <td>uri</td>\n      <td><a href=\"https://lod.opentransportdata.swiss/didok/8505581\" target=\"_blank\">https://lod.opentransportdata.swiss/didok/8505581</a></td>\n      <td>uri</td>\n      <td><a href=\"http://classifications.data.admin.ch/canton/\" target=\"_blank\">http://classifications.data.admin.ch/canton/</a></td>\n    </tr>\n    <tr>\n      <th>6</th>\n      <td>uri</td>\n      <td><a href=\"https://gont.ch/canton\" target=\"_blank\">https://gont.ch/canton</a></td>\n      <td>uri</td>\n      <td><a href=\"https://lod.opentransportdata.swiss/didok/8505594\" target=\"_blank\">https://lod.opentransportdata.swiss/didok/8505594</a></td>\n      <td>uri</td>\n      <td><a href=\"http://classifications.data.admin.ch/canton/\" target=\"_blank\">http://classifications.data.admin.ch/canton/</a></td>\n    </tr>\n    <tr>\n      <th>7</th>\n      <td>uri</td>\n      <td><a href=\"https://gont.ch/canton\" target=\"_blank\">https://gont.ch/canton</a></td>\n      <td>uri</td>\n      <td><a href=\"https://lod.opentransportdata.swiss/didok/8505578\" target=\"_blank\">https://lod.opentransportdata.swiss/didok/8505578</a></td>\n      <td>uri</td>\n      <td><a href=\"http://classifications.data.admin.ch/canton/\" target=\"_blank\">http://classifications.data.admin.ch/canton/</a></td>\n    </tr>\n    <tr>\n      <th>8</th>\n      <td>uri</td>\n      <td><a href=\"https://gont.ch/canton\" target=\"_blank\">https://gont.ch/canton</a></td>\n      <td>uri</td>\n      <td><a href=\"https://lod.opentransportdata.swiss/didok/8505584\" target=\"_blank\">https://lod.opentransportdata.swiss/didok/8505584</a></td>\n      <td>uri</td>\n      <td><a href=\"http://classifications.data.admin.ch/canton/\" target=\"_blank\">http://classifications.data.admin.ch/canton/</a></td>\n    </tr>\n    <tr>\n      <th>9</th>\n      <td>uri</td>\n      <td><a href=\"https://gont.ch/canton\" target=\"_blank\">https://gont.ch/canton</a></td>\n      <td>uri</td>\n      <td><a href=\"https://lod.opentransportdata.swiss/didok/8518155\" target=\"_blank\">https://lod.opentransportdata.swiss/didok/8518155</a></td>\n      <td>uri</td>\n      <td><a href=\"http://classifications.data.admin.ch/canton/\" target=\"_blank\">http://classifications.data.admin.ch/canton/</a></td>\n    </tr>\n  </tbody>\n</table>"
          },
          "metadata": {}
        }
      ]
    },
    {
      "cell_type": "markdown",
      "source": "# Resultat als CSV",
      "metadata": {}
    },
    {
      "cell_type": "code",
      "source": "async def query_csv(query_string, store = \"L\"):\n    \n    # the three Swiss triplestores\n    if store == \"F\":\n        address = 'https://fedlex.data.admin.ch/sparqlendpoint'\n    elif store == \"G\":\n        address = 'https://geo.ld.admin.ch/query'\n    else:\n        address = 'https://ld.admin.ch/query'\n    \n    try:\n        resp = await fetch(address,\n          method=\"POST\",\n          body=\"query=\" + query_string,\n          credentials=\"same-origin\",\n          headers=Object.fromEntries(to_js({\"Content-Type\": \"application/x-www-form-urlencoded; charset=UTF-8\", \"Accept\": \"text/csv\" })),\n        )\n    except Exception:\n        raise Abort()\n    \n    if resp.ok:\n    \n        res = await resp.text()\n\n        df = pd.read_csv(StringIO(res))\n\n        return df\n    else:\n        print(resp.status)\n",
      "metadata": {
        "trusted": true
      },
      "execution_count": 73,
      "outputs": []
    },
    {
      "cell_type": "code",
      "source": "df = await query_csv(\"SELECT * WHERE {?s ?p ?o.} LIMIT 10\", \"L\")\ndf = HTML(df.to_html(render_links=True, escape=False))\ndisplay(df)",
      "metadata": {
        "trusted": true
      },
      "execution_count": 74,
      "outputs": [
        {
          "output_type": "display_data",
          "data": {
            "text/plain": "<IPython.core.display.HTML object>",
            "text/html": "<table border=\"1\" class=\"dataframe\">\n  <thead>\n    <tr style=\"text-align: right;\">\n      <th></th>\n      <th>s</th>\n      <th>p</th>\n      <th>o</th>\n    </tr>\n  </thead>\n  <tbody>\n    <tr>\n      <th>0</th>\n      <td><a href=\"https://lod.opentransportdata.swiss/didok/8501607\" target=\"_blank\">https://lod.opentransportdata.swiss/didok/8501607</a></td>\n      <td><a href=\"https://gont.ch/canton\" target=\"_blank\">https://gont.ch/canton</a></td>\n      <td><a href=\"http://classifications.data.admin.ch/canton/\" target=\"_blank\">http://classifications.data.admin.ch/canton/</a></td>\n    </tr>\n    <tr>\n      <th>1</th>\n      <td><a href=\"https://lod.opentransportdata.swiss/didok/8501950\" target=\"_blank\">https://lod.opentransportdata.swiss/didok/8501950</a></td>\n      <td><a href=\"https://gont.ch/canton\" target=\"_blank\">https://gont.ch/canton</a></td>\n      <td><a href=\"http://classifications.data.admin.ch/canton/\" target=\"_blank\">http://classifications.data.admin.ch/canton/</a></td>\n    </tr>\n    <tr>\n      <th>2</th>\n      <td><a href=\"https://lod.opentransportdata.swiss/didok/8501611\" target=\"_blank\">https://lod.opentransportdata.swiss/didok/8501611</a></td>\n      <td><a href=\"https://gont.ch/canton\" target=\"_blank\">https://gont.ch/canton</a></td>\n      <td><a href=\"http://classifications.data.admin.ch/canton/\" target=\"_blank\">http://classifications.data.admin.ch/canton/</a></td>\n    </tr>\n    <tr>\n      <th>3</th>\n      <td><a href=\"https://lod.opentransportdata.swiss/didok/8519449\" target=\"_blank\">https://lod.opentransportdata.swiss/didok/8519449</a></td>\n      <td><a href=\"https://gont.ch/canton\" target=\"_blank\">https://gont.ch/canton</a></td>\n      <td><a href=\"http://classifications.data.admin.ch/canton/\" target=\"_blank\">http://classifications.data.admin.ch/canton/</a></td>\n    </tr>\n    <tr>\n      <th>4</th>\n      <td><a href=\"https://lod.opentransportdata.swiss/didok/8505592\" target=\"_blank\">https://lod.opentransportdata.swiss/didok/8505592</a></td>\n      <td><a href=\"https://gont.ch/canton\" target=\"_blank\">https://gont.ch/canton</a></td>\n      <td><a href=\"http://classifications.data.admin.ch/canton/\" target=\"_blank\">http://classifications.data.admin.ch/canton/</a></td>\n    </tr>\n    <tr>\n      <th>5</th>\n      <td><a href=\"https://lod.opentransportdata.swiss/didok/8505581\" target=\"_blank\">https://lod.opentransportdata.swiss/didok/8505581</a></td>\n      <td><a href=\"https://gont.ch/canton\" target=\"_blank\">https://gont.ch/canton</a></td>\n      <td><a href=\"http://classifications.data.admin.ch/canton/\" target=\"_blank\">http://classifications.data.admin.ch/canton/</a></td>\n    </tr>\n    <tr>\n      <th>6</th>\n      <td><a href=\"https://lod.opentransportdata.swiss/didok/8505594\" target=\"_blank\">https://lod.opentransportdata.swiss/didok/8505594</a></td>\n      <td><a href=\"https://gont.ch/canton\" target=\"_blank\">https://gont.ch/canton</a></td>\n      <td><a href=\"http://classifications.data.admin.ch/canton/\" target=\"_blank\">http://classifications.data.admin.ch/canton/</a></td>\n    </tr>\n    <tr>\n      <th>7</th>\n      <td><a href=\"https://lod.opentransportdata.swiss/didok/8505578\" target=\"_blank\">https://lod.opentransportdata.swiss/didok/8505578</a></td>\n      <td><a href=\"https://gont.ch/canton\" target=\"_blank\">https://gont.ch/canton</a></td>\n      <td><a href=\"http://classifications.data.admin.ch/canton/\" target=\"_blank\">http://classifications.data.admin.ch/canton/</a></td>\n    </tr>\n    <tr>\n      <th>8</th>\n      <td><a href=\"https://lod.opentransportdata.swiss/didok/8505584\" target=\"_blank\">https://lod.opentransportdata.swiss/didok/8505584</a></td>\n      <td><a href=\"https://gont.ch/canton\" target=\"_blank\">https://gont.ch/canton</a></td>\n      <td><a href=\"http://classifications.data.admin.ch/canton/\" target=\"_blank\">http://classifications.data.admin.ch/canton/</a></td>\n    </tr>\n    <tr>\n      <th>9</th>\n      <td><a href=\"https://lod.opentransportdata.swiss/didok/8518155\" target=\"_blank\">https://lod.opentransportdata.swiss/didok/8518155</a></td>\n      <td><a href=\"https://gont.ch/canton\" target=\"_blank\">https://gont.ch/canton</a></td>\n      <td><a href=\"http://classifications.data.admin.ch/canton/\" target=\"_blank\">http://classifications.data.admin.ch/canton/</a></td>\n    </tr>\n  </tbody>\n</table>"
          },
          "metadata": {}
        }
      ]
    }
  ]
}