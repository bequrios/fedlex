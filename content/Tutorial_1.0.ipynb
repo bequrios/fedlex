{
  "metadata": {
    "toc-autonumbering": true,
    "language_info": {
      "codemirror_mode": {
        "name": "python",
        "version": 3
      },
      "file_extension": ".py",
      "mimetype": "text/x-python",
      "name": "python",
      "nbconvert_exporter": "python",
      "pygments_lexer": "ipython3",
      "version": "3.8"
    },
    "kernelspec": {
      "name": "python",
      "display_name": "Python (Pyodide)",
      "language": "python"
    }
  },
  "nbformat_minor": 4,
  "nbformat": 4,
  "cells": [
    {
      "cell_type": "markdown",
      "source": "<br>\n\n<img src=\"https://www.fedlex.admin.ch/assets/pictos/logo-ch.png\" style=\"width:15%; float:right\">\n\n# Fedlex Linked Data Tutorial",
      "metadata": {}
    },
    {
      "cell_type": "markdown",
      "source": "## Einführung\n\nDieses Tutorial ist dazu gedacht, eine Einführung in Fedlex Linked Data zu geben. Dabei soll einerseits das verwendete Datenmodell vorgestellt werden und anderseits aufgezeigt werden, wie mit Hilfe von SPARQL Abfragen die Daten genutzt werden können. Fedlex ist die Publikationsplattform des schweizerischen Bundesrechts und baut sehr stark auf der Anwendung von Linked Data auf.\n\nDieses Tutorial ist ein sogenanntes **interaktives JupyterLite Notebook**. In diesem Notebook können Sie den Inhalt der einzelnen Zellen interaktiv ändern und diese Zellen direkt ausführen, um das Ergebnis Ihrer Änderungen sofort zu sehen. Die Zellen enthalten entweder [Markdown](https://en.wikipedia.org/wiki/Markdown)-Inhalt (wie diese Zelle) oder ausführbaren Python-Quellcode. Dies ist für ein Tutorial sehr hilfreich, weil Inhalte beliebig mit ausführbarem Quellcode kombiniert werden können. Es können also Abfragen gezeigt werden, diese erklärt werden und darauf weiter aufgebaut werden.\n\n**Um direkt loslegen zu können klicken Sie oben im Menu auf Run -> Run All Cells.**  \n**Einzelne ausgewählte Zellen können sie danach mit dem \"Play-Button\" erneut ausführen und so Abfragen individuell anpassen.**\n\nDas Notebook startet mit einem [Setup](#Setup) der Programierumgebung. Das eigentliche Tutorial startet [hier](#Tutorial).\n\n*Zusätzliche Informationen zu JupyterLite:*  \nJupyterLite is ein spezielles Jupyter Notebook mit dem Vorteil, vollständig browserbasiert zu sein, ohne eine aufwändige Backend-Infrastruktur zu benötigen. Der Nachteil ist, dass die erstmalige Ausführung der Zellen einige Zeit in Anspruch nehmen kann, weil eine erhebliche Menge von Daten geladen werden muss. Nachfolgende Ausführungen werden aufgrund der gespeicherten Daten in Ihrem Browser-Cache viel schneller sein.\n\nWenn Sie mehr über die Handhabung von Jupyter Notebooks wissen wollen, finden Sie hier zwei nützliche Ressourcen:\n\n- [Die JupyterLab Interface](https://jupyterlab.readthedocs.io/en/stable/user/interface.html)\n- [Das Jupyter Notebook](https://jupyterlab.readthedocs.io/en/stable/user/notebook.html)",
      "metadata": {
        "jp-MarkdownHeadingCollapsed": true,
        "tags": [],
        "trusted": true
      }
    },
    {
      "cell_type": "markdown",
      "source": "## Setup\n\nEine SPARQL Abfrage ist nichts anderes als ein POST-Request an den entsprechenden Triple Store Datenbank Server. Um diese Requests und die erhaltenen Antworten einfacher handhaben zu können, enthält dieses Notebook vorbereiteten Python Code, der nachfolgend importiert wird. Zusätzlich wird das `pandas` Modul importiert, welches die Möglichkeit bietet, die tabellarischen Daten der SPARQL Abfragen als [Pandas Dataframes](https://pandas.pydata.org/docs/index.html) weiter zu verarbeiten. ",
      "metadata": {
        "trusted": true
      }
    },
    {
      "cell_type": "code",
      "source": "import pandas as pd\nfrom sparql import query, display_result",
      "metadata": {
        "trusted": true
      },
      "execution_count": null,
      "outputs": []
    },
    {
      "cell_type": "markdown",
      "source": "# Tutorial",
      "metadata": {}
    },
    {
      "cell_type": "markdown",
      "source": "## Linked Data Einführung",
      "metadata": {}
    },
    {
      "cell_type": "markdown",
      "source": "Linked Data beschreibt ein **Framework für den Umgang mit Daten**, die sowohl für Menschen nützlich sein sollen, als auch maschinenlesbar sind inkl. einer von Computern verarbeitbaren Semantik. Also sowohl Menschen als auch Computer sollen die Daten \"verstehen\" und interpretieren können. \n\n### RDF\n\nDas für Linked Data verwendete Datenformat ist RDF (Resource Description Framework). Das bedeutet, dass die Daten nicht als Tabellen (wie beispielsweise in relationalen Datenbanken) sondern als **Triples** abgespeichert werden. Triples folgen der grammatikalischen Struktur **Subjekt -> Prädikat -> Objekt** und können auch als grammatikalischer Satz verstanden werden. \n\nDie Information \"**Der Apfel ist grün**\" wird also mit dem Tripel **Apfel -> ist -> grün** ausgedrückt. Alle Teile eines Triples sind dabei durch weitere Eigenschaften definiert und beschrieben die wiederum in Form von Triples beschrieben sind. Diese vielseitigen Verknüpfungen führen zu einer Netzwerkstruktur, zu einem sogenannten Graphen.\n\nNachfolgendes Bild aus dem [W3C Primer für RDF](https://www.w3.org/TR/rdf11-primer/) veranschaulicht diese Zusammenhänge:\n\n![](https://www.w3.org/TR/rdf11-primer/example-graph.jpg)",
      "metadata": {}
    },
    {
      "cell_type": "markdown",
      "source": "### URI\n\nEine weitere wichtige Eigenschaft von Linked Data ist, dass alle Teile eines Triples, also Subjekt, Prädikat und Objekt weltweit eindeutig identifizierbar sind. Dafür werden URI (Universal Resource Identifier) eingesetzt. Die URI https://fedlex.data.admin.ch/eli/cc/1999/404 beispielsweise ist der weltweit eindeutige Identifier für die Bundesverfassung in der systematischen Rechtssammlung. Typischerweise lassen sich URI **dereferenzieren**, das heisst, ein Request auf die entsprechende URI (bspw. in dem man sie in die Adresszeile eines Browsers eintippt) führt zu einer Website, die Infos zur entsprechenden URI enthält. Im Falle der URI der Bundesverfassung wird man auf eine Webpage weitergeleitet, die diverse Informationen zur Bundesverfassung (Chronologie, Änderungen, etc.) und den eigentlichen Text der Bundesverfassung enthält.\n\n### Weitere Informationen zu Linked Data\n\nWer vertieft in das Thema Linked Data einsteigen möchte, dem sei beispielsweise [diese Youtube Playlist](https://www.youtube.com/watch?v=ON0wf0SEPx8&list=PLoOmvuyo5UAfY6jb46jCpMoqb-dbVewxg) empfohlen.",
      "metadata": {}
    },
    {
      "cell_type": "markdown",
      "source": "## Die Daten auf Fedlex",
      "metadata": {}
    },
    {
      "cell_type": "markdown",
      "source": "### Datenmodell JOLux\n\nLinked Data und RDF definieren die Grundmechanismen der Datenspeicherung, das eigentliche Datenmodell (auch Ontologie oder Schema genannt) muss in der jeweiligen Anwendung festgelegt werden. Das von Fedlex verwendete Datenmodell heisst **JOLux**. Dieses stammt ursprünglich aus Luxemburg und wird inzwischen von der Schweiz und Luxemburg gemeinsam weiterentwickelt. JOLux definiert, welche Art von Objekten es gibt, wie diese in Beziehung stehen können und mit welchem Vokabular (also mit welchen Prädikaten und Objekten) diese bezeichnet werden. Weitere Informationen über das Datenmodell JOLux finden Sie [hier](https://fedlex.data.admin.ch/de-CH/home/models).",
      "metadata": {}
    },
    {
      "cell_type": "markdown",
      "source": "### Amtliche Sammlung",
      "metadata": {}
    },
    {
      "cell_type": "markdown",
      "source": "In der **Amtlichen Sammlung (AS)** (Englisch: Official Compilation (OC)) des Bundesrechts werden die neuen und geänderten Erlasse, Verträge und Beschlüsse chronologisch veröffentlicht. Typischerweise haben Beschlüsse die Form eines Mantelerlasses, in denen sowohl neue Gesetze erlassen werden, als auch schon bestehende geändert oder aufgehoben werden können. Jede Veröffentlichung in der amtlichen Sammlung erhält eine eindeutige AS-Nummer (z.B. [AS 2021 654](https://www.fedlex.admin.ch/eli/oc/2021/654)). Weitere Erläuterungen zur amtlichen Sammlung sind [hier](https://www.fedlex.admin.ch/de/oc/explanations-oc) zu finden.",
      "metadata": {}
    },
    {
      "cell_type": "markdown",
      "source": "### Systematische Rechtssammlung",
      "metadata": {
        "tags": []
      }
    },
    {
      "cell_type": "markdown",
      "source": "Die **Systematische Rechtssammlung (SR)** (Englisch: Consolidated Compilation (CC)) des Bundesrechts stellt die konsolidierte Fassung des aktuell gültigen Rechts basierend auf der amtlichen Sammlung dar. Jeder Gesetzestext bekommt eine eindeutige SR-Nummer (z.B. [SR 101](https://www.fedlex.admin.ch/eli/cc/1999/404) für die Bundesverfassung), welche sich nicht auf eine bestimmte Version eines Gesetzes bezieht, sondern auf das Gesetz im Allgemeinen. Erscheint ein neuer Erlass in der AS der Teile des entsprechenden Gesetzes revidiert (z.B. Teile der Bundesverfassung durch [AS 2022 241](https://www.fedlex.admin.ch/eli/oc/2022/241)), so werden diese Änderungen in der systematischen Rechtssammlung konsolidiert und unter gleichbleibender SR-Nummer veröffentlicht (im Beispiel weiterhin SR 101). Weitere Erläuterungen zur systematischen Rechtssammlung sind [hier](https://www.fedlex.admin.ch/de/cc/explanations-cc) zu finden.",
      "metadata": {}
    },
    {
      "cell_type": "markdown",
      "source": "### Aufbau der URI bei Fedlex",
      "metadata": {}
    },
    {
      "cell_type": "markdown",
      "source": "URI können grundsätzlich sprechend oder nicht sprechend aufgebaut sein. Sprechend heisst in diesem Zusammenhang, dass die URI schon etwas über das entsprechende Objekt kodieren. Nicht sprechende URI sind typischerweise als beliebige Folgend von Zahlen und Buchstaben aufgebaut. Die URI von Fedlex sind sprechend, sie beginnen alle mit `https://fedlex.data.admin.ch/eli/`. Die Einträge für die AS beginnen mit `https://fedlex.data.admin.ch/eli/oc/` und diejenigen für die SR mit `https://fedlex.data.admin.ch/eli/cc/`. Der weitere Aufbau der URI ist [hier](https://fedlex.data.admin.ch/de-CH/home/convention) erklärt.",
      "metadata": {}
    },
    {
      "cell_type": "markdown",
      "source": "### Metadaten und Triples",
      "metadata": {}
    },
    {
      "cell_type": "markdown",
      "source": "Mit welchen Linked Data Triples ein bestimmter Eintrag in der AS oder SR in der Datenbank beschrieben ist, lässt sich über den [Metadaten-Explorer](https://fedlex.data.admin.ch/de-CH/metadata) anzeigen. Dazu müssen die entsprechenden URIs im Metadaten-Explorer eingegeben werden.\n\nDie URI eines AS oder SR Eintrags lässt sich über die Web-Darstellung des entsprechenden Eintrags finden, indem man auf das Ketten-Symbol direkt neben \"Alles einblenden\" klickt:\n<br><img src=\"img/sr101.jpg\" width=\"800px\">\n\n[In den Metadaten-Explorer eingegeben](https://fedlex.data.admin.ch/de-CH/metadata?value=https://fedlex.data.admin.ch/eli/cc/1999/404) zeigt die oben genannte URI die abgespeicherten Eigenschaften der Bundesverfassung.\n<br><img src=\"img/metadata.png\" width=\"800px\">\n\nUm direkt den Metadaten-Explorer Eintrag für eine bestimmte URI zu erhalten, lässt sich die URI als Parameter in der URL zum Metadaten-Explorer hinzufügen, für die Bundesverfassung also: https://fedlex.data.admin.ch/de-CH/metadata?value=https://fedlex.data.admin.ch/eli/cc/1999/404\n\nFedlex ist so aufgebaut, dass die Dereferenzierung einer URI (also das Anzeigen der entsprechenden Website) mit einer von der URI abweichenden URL geschieht, die sich jedoch aus der URI ableiten lässt und auf die man bei Eingabe der URI in der Browser-Adresszeile auch automatisch weitergeleitet wird:\n\n* URI: https://fedlex.data.admin.ch/eli/cc/1999/404\n* URL (Dereferenzierung der URI für Deutsch): https://www.fedlex.admin.ch/eli/cc/1999/404/de",
      "metadata": {}
    },
    {
      "cell_type": "markdown",
      "source": "### Prefixes",
      "metadata": {}
    },
    {
      "cell_type": "markdown",
      "source": "URIs sind analog zu Webadressen aufgebaut. Um die Lesbarkeit zu verbessern, können Abkürzungen, sogenannte **Prefixes** definiert werden, die häufig genutzte Teile einer URI zusammenfassen, bspw. `fedlex` als Prefix für `https://fedlex.data.admin.ch/eli/`. Aus `https://fedlex.data.admin.ch/eli/cc/1999/404` wird dann `fedlex:cc/1999/404`.\n\nFür die weiteren Teile des Tutorials definieren wir folgenden Prefixes:\n* `fedlex` für `https://fedlex.data.admin.ch/eli/`; Namensraum für AS und SR Einträge\n* `jolux` für `http://data.legilux.public.lu/resource/ontology/jolux#`; Vokabular für das JOLux Datenmodell\n* `skos` für `http://www.w3.org/2004/02/skos/core#`; Externes Vokabular\n* `rdf` für `http://www.w3.org/1999/02/22-rdf-syntax-ns#`; Externes Vokabular\n\nMehr zum Aufbau der URIs auf Fedlex finden Sie [hier](https://fedlex.data.admin.ch/de-CH/home/convention).",
      "metadata": {}
    },
    {
      "cell_type": "markdown",
      "source": "## Das Datenmodell erforschen und Daten abfragen",
      "metadata": {
        "tags": []
      }
    },
    {
      "cell_type": "markdown",
      "source": "Um die gespeicherten Daten bspw. zur Bundesverfassung zu erhalten, gibt es drei Möglichkeiten:\n\n- Die HTML Version (dereferenzierte URI) unter https://www.fedlex.admin.ch/eli/cc/1999/404/de\n- Den Metadaten-Explorer unter https://fedlex.data.admin.ch/de-CH/metadata?value=https://fedlex.data.admin.ch/eli/cc/1999/404\n- Die Abfrage der weiteren Daten mit SPARQL, einer Sprache zum Abfragen von Linked Data Datenbanken (so genannten Triple Stores), ähnlich zu SQL.\n\nDie Website https://fedlex.admin.ch und alle dort angzeigten Daten basieren auf den Linked Data aus dem Triple Store. Informationen, die auf den HTML-Seiten von Fedlex zu sehen sind, sind also auch maschinenlesbar via SPARQL Abfrage verfügbar. Nachfolgend soll Schritt für Schritt das Datenmodell von Fedlex eingeführt werden und die entsprechenden SPARQL Queries aufgezeigt werden, um auf diese Daten maschinenlesbar zugreifen zu können.",
      "metadata": {}
    },
    {
      "cell_type": "markdown",
      "source": "### SPARQL <a class=\"anchor\" id=\"SPARQL\"></a>",
      "metadata": {}
    },
    {
      "cell_type": "markdown",
      "source": "SPARQL ist eine Query-Sprache für Linked Data Triple Stores. Für eine allgemeine Einführung in SPARQL siehe z.B.: https://jena.apache.org/tutorials/sparql.html\n\nAbfragen (engl. Queries) können entweder direkt über das [SPARQL-Interface von Fedlex](https://fedlex.data.admin.ch/de-CH/sparql) eingegeben und ausgeführt werden, oder als HTTP-POST Request an den SPARQL-Endpoint (https://fedlex.data.admin.ch/sparqlendpoint) gesendet werden.\n\nDie letztere Methode erlaubt es, eigene Anwendungen zu bauen, die automatisch aktuelle Daten von Fedlex abfragen können. Für dieses Tutorial verwenden wir diese Methode. Die Abfragen sind jedoch in beiden Fällen identisch. Für die Abfrage über das Interface kopieren sie einfach den Teil zwischen den `\"\"\"` und fügen sie im SPARQL-Interface ein.",
      "metadata": {}
    },
    {
      "cell_type": "markdown",
      "source": "### Pattern Matching\n\nSPARQL Queries sind Aufträge an den Computer, bestimme Muster (Pattern) in den Daten zu finden (matching). Es können also mit Hilfe von SPARQL Muster vorgegeben werden, und die Datenbank gibt alle Triples zurück, die dieses Muster erfüllen. Einzelne Positionen der Triples können dabei bei einer Abfrage bewusst undefiniert gelassen und mit einer Variable bezeichnet werden. Variablen beginnen mit `?` und werden bei der Abfrage durch alle möglichen Elemente gefüllt, die dieses Pattern erfüllen. Eine ausführlicher Anleitung zum Pattern Matching ist [hier](https://programminghistorian.org/en/lessons/retired/graph-databases-and-SPARQL#rdf-in-brief) zu finden. ",
      "metadata": {}
    },
    {
      "cell_type": "markdown",
      "source": "### Die erste SPARQL Query",
      "metadata": {}
    },
    {
      "cell_type": "markdown",
      "source": "Wenn wir Infos zur Bundesverfassung wollen, können wir nach Triples suchen, in denen die Bundesverfassung als Subjekt erscheint. Dies geschieht mit folgender SPARQL Query:",
      "metadata": {}
    },
    {
      "cell_type": "code",
      "source": "df = await query(\"\"\"\n\n# SELECT beschreibt welche Variablen zurückgegeben werden sollen.\n# Mit DISTINCT werden allfällige doppelte Ergebnisse aussortiert.\n\nSELECT DISTINCT ?Prädikat ?Objekt WHERE {\n    \n    # Die Aussage beginnt mit der URI der Bundesverfassung als Subjekt, setzt das Prädikat und Objekt als Variablen und endet mit einem Punkt.\n    \n    <https://fedlex.data.admin.ch/eli/cc/1999/404> ?Prädikat ?Objekt .\n} \n\n\"\"\", \"F\")\n\ndisplay_result(df)",
      "metadata": {
        "trusted": true
      },
      "execution_count": null,
      "outputs": []
    },
    {
      "cell_type": "markdown",
      "source": "Das Ergebniss ist eine Tabelle (eigentlich Pandas Dataframe) mit allen Prädikaten und den entsprechenden Objekten, die in allen abgespeicherten Triples mit der Bundesverfassung als Subjekt vorkommen. Während Prädikate immer URIs sind, können die Objekte auch sogeannte **Literals** sein, also reine Stringwerte (Zahlen und Buchstaben), die eine Information transportieren, aber die nicht dereferenzierbar sind. Solche Literals können beispielsweise Kalenderdaten sein oder Identifier oder Namen, etc.",
      "metadata": {}
    },
    {
      "cell_type": "markdown",
      "source": "Wir sehen, dass die Bundesverfassung vom `rdf:type` `jolux:ConsolidationAbstract` ist. Dieser Typ beschreibt Objekte, die einen SR-Eintrag darstellen, also ein Gesetz auf abstrakter Ebene repräsentieren.",
      "metadata": {}
    },
    {
      "cell_type": "markdown",
      "source": "### Expressions: Sprachversionen <a class=\"anchor\" id=\"expressions\"></a>",
      "metadata": {}
    },
    {
      "cell_type": "markdown",
      "source": "Da alle Texte in verschiedenen Sprachen existieren (und die URI https://fedlex.data.admin.ch/eli/cc/1999/404 der Bundesverfassung gibt ja keinen Hinweis auf eine bestimmte Sprache), müssen also innerhalb eines `jolux:ConsolidationAbstract` verschiedene Sprachversionen existieren. Diese sind vom `rdf:type` `jolux:Expression` und sind durch die Eigenschaft `jolux:isRealizedBy` mit dem sprachübergreifenden Eintrag des `jolux:ConsolidationAbstract` verknüpft.",
      "metadata": {}
    },
    {
      "cell_type": "markdown",
      "source": "Mit einem Klick auf die URI der deutschen Sprachversion (https://fedlex.data.admin.ch/eli/cc/1999/404/de) sehen wir, dass wir hier sowohl Titel, Abkürzung, als auch die SR Nummer auf deutsch finden. \n\n<br><br><img src=img/expression.svg>\n<br><br>\n\nAusgehend von der URI der Bundesverfassung können wir diese Informationen also abfragen mit:",
      "metadata": {}
    },
    {
      "cell_type": "code",
      "source": "df = await query(\"\"\"\n\n# Definition eines Prefix zur besseren Lesbarkeit\nPREFIX jolux: <http://data.legilux.public.lu/resource/ontology/jolux#>\n\nSELECT DISTINCT ?SR_Nummer ?Titel ?Abkürzung WHERE {\n    \n    # Die erste Aussage wählt alle Expressions (Sprachversionen) aus die durch jolux:isRealizedBy mit der Bundesverfassung verknüpft sind.\n    <https://fedlex.data.admin.ch/eli/cc/1999/404> jolux:isRealizedBy ?expression .\n    \n    # Die zweite Aussage grenzt die Expressions auf diejenige mit der Sprache Deutsch.\n    ?expression jolux:language <http://publications.europa.eu/resource/authority/language/DEU> .\n    \n    # Die nächsten Aussagen fragen die gewünschen Daten ab, jeweils mit der Expression als Subjekt (möglich durch das Beenden der Aussage mit ; anstatt .)\n    ?expression jolux:title ?Titel ;\n                jolux:titleShort ?Abkürzung ; \n                jolux:historicalLegalId ?SR_Nummer .\n} \n\n\"\"\", \"F\")\n\ndisplay_result(df)",
      "metadata": {
        "trusted": true
      },
      "execution_count": null,
      "outputs": []
    },
    {
      "cell_type": "markdown",
      "source": "### Liste aller SR Einträge <a class=\"anchor\" id=\"liste\"></a>",
      "metadata": {}
    },
    {
      "cell_type": "markdown",
      "source": "Basierend auf dem was wir bereits gelernt haben können wir nun ganz einfach eine Liste aller SR-Einträge und die dazugehörigen Metadaten abfragen, indem wir die URI der Bundesverfassung durch eine Variable ersetzen die vom `rdf:type` `jolux:ConsolidationAbstract` sein soll (also einen SR Eintrag darstellt):",
      "metadata": {}
    },
    {
      "cell_type": "code",
      "source": "df = await query(\"\"\"\n\n# Definition von Prefixes zur besseren Lesbarkeit\nPREFIX rdf: <http://www.w3.org/1999/02/22-rdf-syntax-ns#>\nPREFIX jolux: <http://data.legilux.public.lu/resource/ontology/jolux#>\n\nSELECT DISTINCT ?SR_Nummer ?Titel ?Abkürzung ?SR_URI WHERE {\n    \n    # Alle SR Einträge und ihre Expressions auswählen\n    ?SR_URI rdf:type jolux:ConsolidationAbstract .\n    ?SR_URI jolux:isRealizedBy ?expression .\n    \n    ?expression jolux:language <http://publications.europa.eu/resource/authority/language/DEU> .\n    \n    ?expression jolux:title ?Titel ;\n                jolux:titleShort ?Abkürzung ; \n                jolux:historicalLegalId ?SR_Nummer .\n} \n\n# Wir beschränken die Ausgabe auf die ersten 10 Einträge\nLIMIT 10\n\n\"\"\", \"F\")\n\ndisplay_result(df)",
      "metadata": {
        "trusted": true
      },
      "execution_count": null,
      "outputs": []
    },
    {
      "cell_type": "markdown",
      "source": "Der Übersicht halber wurde die Ausgabe mit dem Keyword `LIMIT` auf die ersten 10 Einträge begrenzt.",
      "metadata": {}
    },
    {
      "cell_type": "markdown",
      "source": "### Suche nach einer Abkürzung eines SR Eintrages\n\nFalls nach dem Titel einer bestimmten Abkürzung gesucht werden will, ist das mit einer kleinen Anpassung für bspw. die Abkürzung \"BankV\" möglich. Es muss lediglich die Variable `?Abkürzung` durch den gesuchten Wert ersetzt werden. Da der gesuchte Wert ein Literal ist, muss er in Anführungszeichen gesetzt werden:",
      "metadata": {}
    },
    {
      "cell_type": "code",
      "source": "df = await query(\"\"\"\n\n# Definition von Prefixes zur besseren Lesbarkeit\nPREFIX rdf: <http://www.w3.org/1999/02/22-rdf-syntax-ns#>\nPREFIX jolux: <http://data.legilux.public.lu/resource/ontology/jolux#>\n\nSELECT DISTINCT ?SR_Nummer ?Titel ?SR_URI WHERE {\n    \n    # Alle SR Einträge und ihre Expressions auswählen\n    ?SR_URI rdf:type jolux:ConsolidationAbstract .\n    ?SR_URI jolux:isRealizedBy ?expression .\n    \n    ?expression jolux:language <http://publications.europa.eu/resource/authority/language/DEU> .\n    \n    ?expression jolux:title ?Titel ;\n                jolux:titleShort \"BankV\" ; \n                jolux:historicalLegalId ?SR_Nummer .\n} \n\n# Wir beschränken die Ausgabe auf die ersten 10 Einträge\nLIMIT 10\n\n\"\"\", \"F\")\n\ndisplay_result(df)",
      "metadata": {
        "trusted": true
      },
      "execution_count": null,
      "outputs": []
    },
    {
      "cell_type": "markdown",
      "source": "### Consolidations: Versionen der SR Einträge <a class=\"anchor\" id=\"consolidations\"></a>",
      "metadata": {}
    },
    {
      "cell_type": "markdown",
      "source": "Ein SR Eintrag vom `rdf:type` `jolux:ConsolidationAbstract` beschreibt einen Gesetzestext in der Systematischen Rechtssammlung auf abstrakter Ebene über die Zeit seines bestehens hinweg. Die konkrete Version des konsolidierten Gesetzestextes zu einem bestimmten Zeitpunkt ist als ein Objekt vom `rdf:type` `jolux:Consolidation` abgespeichert und mit dem Prädikat `jolux:isMemberOf` mit dem entsprechenden SR Eintrag verknüpft (Beispiel: [Bundesverfassung Version vom 13.02.2013](https://fedlex.data.admin.ch/de-CH/metadata?value=https:%2F%2Ffedlex.data.admin.ch%2Feli%2Fcc%2F1999%2F404%2F20220213)).",
      "metadata": {}
    },
    {
      "cell_type": "markdown",
      "source": "<br><img src=img/Consolidation.svg>\n<br>",
      "metadata": {}
    },
    {
      "cell_type": "markdown",
      "source": "Ausgehend von der URI der Bundesverfassung können wir nun eine Liste der verschiedenen Versionen abfragen:",
      "metadata": {}
    },
    {
      "cell_type": "code",
      "source": "df = await query(\"\"\"\n\n# Definition von Abkürzungen zur besseren Lesbarkeit\nPREFIX rdf: <http://www.w3.org/1999/02/22-rdf-syntax-ns#>\nPREFIX jolux: <http://data.legilux.public.lu/resource/ontology/jolux#>\n\nSELECT DISTINCT ?Consolidation_Datum ?Consolidation_URI WHERE {\n    \n    # Alle Consolidations auswählen die zur Bundesverfassung gehören\n    ?Consolidation_URI jolux:isMemberOf <https://fedlex.data.admin.ch/eli/cc/1999/404> ;\n                      # Abfragen des Datums des Inkrafttretens der speziefischen Version\n                      jolux:dateApplicability ?Consolidation_Datum .\n} \n\n# Wir ordnen die Ausgabe nach absteigendem Datum (neueste zuerst)\nORDER BY DESC(?Consolidation_Datum)\n\n# Wir beschränken die Ausgabe auf die ersten 10 Einträge\nLIMIT 10\n\n\"\"\", \"F\")\n\ndisplay_result(df)",
      "metadata": {
        "trusted": true
      },
      "execution_count": null,
      "outputs": []
    },
    {
      "cell_type": "markdown",
      "source": "Mit dem Befehl `ORDER BY` wurde die Ausgabe nach Datum sortiert.",
      "metadata": {}
    },
    {
      "cell_type": "markdown",
      "source": "### Manifestations: Dateiformate und Datenzugriff <a class=\"anchor\" id=\"manifestations\"></a>",
      "metadata": {}
    },
    {
      "cell_type": "markdown",
      "source": "Jede Version (`jolux:Consolidation`) eines SR-Eintrags (`jolux:ConsolidationAbstract`) hat dabei wiederum verschiedene Sprachversionen (`jolux:Expression`). Rufen wir die Metadaten einer solchen ab (Beispiel: [Deutsche Bundesverfassung Version vom 13.02.2013](https://fedlex.data.admin.ch/eli/cc/1999/404/20220213/de)), sehen wir, dass die `jolux:Expression` durch `jolux:isEmbodiedBy` wiederum mit verschiedenen Objekten vom `rdf:type` `jolux:Manifestation` verknüpft sind. Diese repräsentieren die verschiedenen Datenformate (XML, PDF, HTML, docx, doc) in denen der Text zur Verfügung steht und zeigen ihrerseits mit dem Prädikat `jolux:isExemplifiedBy` auf den dazugehörigen Downloadlink für das Dokument.",
      "metadata": {}
    },
    {
      "cell_type": "markdown",
      "source": "<br><img src=img/Manifestation.svg>\n<br>",
      "metadata": {}
    },
    {
      "cell_type": "markdown",
      "source": "Mit dem Wissen über Textversionen, Sprachversionen, und Dateiformate können wir nun die vorherige Abfrage ergänzen und uns zusätzlich den Link zu dem jeweiligen PDF der verschiedenen deutschen Versionen der Bundesverfassung ausgeben lassen:",
      "metadata": {}
    },
    {
      "cell_type": "code",
      "source": "df = await query(\"\"\"\n\n# Definition von Abkürzungen zur besseren Lesbarkeit\nPREFIX rdf: <http://www.w3.org/1999/02/22-rdf-syntax-ns#>\nPREFIX jolux: <http://data.legilux.public.lu/resource/ontology/jolux#>\n\nSELECT DISTINCT ?Consolidation_Datum ?Consolidation_URI ?PDF_Link WHERE {\n    \n    ?Consolidation_URI jolux:isMemberOf <https://fedlex.data.admin.ch/eli/cc/1999/404> ;\n                      jolux:dateApplicability ?Consolidation_Datum ;\n                      # Wähle alle Sprachversionen der verschiedenen Textversionen\n                      jolux:isRealizedBy ?Expression .\n                      \n    # Reduziere die Auswahl auf die Deutschen Sprachversionen\n    ?Expression jolux:language <http://publications.europa.eu/resource/authority/language/DEU> ;\n                # Wähle alle verfügbaren Dateiformate der Sprachversion\n                jolux:isEmbodiedBy ?Manifestation .\n    \n    # Reduziere die Auswahl auf Einträge mit dem Datenformat PDF\n    ?Manifestation jolux:format <http://publications.europa.eu/resource/authority/file-type/PDF>;\n                   # Rufe den Download-Link zum entsprechenden Dokument ab\n                   jolux:isExemplifiedBy ?PDF_Link\n\n} \n\n# Wir ordnen die Ausgabe nach absteigendem Datum (neueste zuerst)\nORDER BY DESC(?Consolidation_Datum)\n\n# Wir beschränken die Ausgabe auf die ersten 10 Einträge\nLIMIT 10\n\n\"\"\", \"F\")\n\ndisplay_result(df)",
      "metadata": {
        "trusted": true
      },
      "execution_count": null,
      "outputs": []
    }
  ]
}