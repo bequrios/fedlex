{
  "metadata": {
    "language_info": {
      "codemirror_mode": {
        "name": "python",
        "version": 3
      },
      "file_extension": ".py",
      "mimetype": "text/x-python",
      "name": "python",
      "nbconvert_exporter": "python",
      "pygments_lexer": "ipython3",
      "version": "3.8"
    },
    "kernelspec": {
      "name": "python",
      "display_name": "Python (Pyodide)",
      "language": "python"
    }
  },
  "nbformat_minor": 4,
  "nbformat": 4,
  "cells": [
    {
      "cell_type": "markdown",
      "source": "# SPARQL Tutorial für FEDLEX",
      "metadata": {}
    },
    {
      "cell_type": "markdown",
      "source": "## Einführung\n\nDiese Webseite ist ein sogenanntes **interaktives JupyterLite-Notebook**. In diesem Notizbuch können Sie den Inhalt der einzelnen Zellen interaktiv ändern und diese Zellen direkt ausführen, um das Ergebnis Ihrer Änderungen sofort zu sehen. Die Zellen enthalten entweder [Markdown](https://en.wikipedia.org/wiki/Markdown)-Inhalt (wie diese Zelle) oder ausführbaren Python-Quellcode.\n\n**Um direk loslegen zu können klicken Sie oben auf Run -> Run All Cells**  \n**Einzelne ausgewählte Zellen können sie danach mit STRG + ENTER erneut ausführen uns so Abfragen individuell anpassen**\n\nDas Notebook startet mit einem Setup der Programierumgebung. Das SPARQL tutorial startet [hier](#Tutorial).\n\n*Zusätzliche Informationen:*  \nJupyterLite stammt von JupyterLab mit dem Vorteil, vollständig browserbasiert zu sein, ohne Backend-Infrastruktur. Das bedeutet, dass die Ausführung der Zellen bei der ersten Ausführung einige Zeit in Anspruch nehmen kann. Nachfolgende Ausführungen werden aufgrund der gespeicherten Daten in Ihrem Browser-Cache viel schneller sein.\n\nWenn Sie mit mehr über ide Handhabung von Jupyter-Notebooks nicht wissen wollen, finden Sie hier zwei nützliche Ressourcen:\n\n- [Die JupyterLab-Schnittstelle] (https://jupyterlab.readthedocs.io/en/stable/user/interface.html)\n- [Das Jupyter-Notebook] (https://jupyterlab.readthedocs.io/en/stable/user/notebook.html)",
      "metadata": {
        "jp-MarkdownHeadingCollapsed": true,
        "tags": [],
        "trusted": true
      }
    },
    {
      "cell_type": "markdown",
      "source": "## Setup\n\n### Installieren und importieren der erforderlichen Module\n\nDas Abfragen eines SPARQL-Endpunkts stellt im Grunde eine POST-Anforderung an die entsprechende Endpunkt-URL. Da JupyterLite im Moment keine Unterstützung für Pythons `requests`-Modul hat, wird die JavaScript-Fetch-API verwendet (mit einigen Tricks). Dazu müssen folgende Module importiert werden:",
      "metadata": {
        "trusted": true
      }
    },
    {
      "cell_type": "code",
      "source": "%pip install -q folium",
      "metadata": {
        "trusted": true
      },
      "execution_count": 2,
      "outputs": []
    },
    {
      "cell_type": "code",
      "source": "import json\nimport pandas as pd\nfrom pyodide.ffi import to_js\nfrom IPython.display import JSON, HTML\nfrom js import Object, fetch\nfrom io import StringIO",
      "metadata": {
        "trusted": true
      },
      "execution_count": 3,
      "outputs": []
    },
    {
      "cell_type": "markdown",
      "source": "### Hauptabfragefunktion definieren\n\nDa die JavaScript-Abruf-API asynchron ist, muss die entsprechende Python-Funktion `query` als `async` deklariert werden. Diese Funktion ermöglicht die Abfrage der 3 staatlichen Triple Stores der Schweiz.",
      "metadata": {
        "tags": [],
        "trusted": true
      }
    },
    {
      "cell_type": "code",
      "source": "async def query(query_string, store = \"L\"):\n    \n    # three Swiss triplestores\n    if store == \"F\":\n        address = 'https://fedlex.data.admin.ch/sparqlendpoint'\n    elif store == \"G\":\n        address = 'https://geo.ld.admin.ch/query'\n    else:\n        address = 'https://ld.admin.ch/query'\n    \n    # try the Post request with help of JS fetch\n    # the creation of the request header is a little bit complicated because it needs to be a \n    # JavaScript JSON that is made within a Python source code\n    try:\n        resp = await fetch(address,\n          method=\"POST\",\n          body=\"query=\" + query_string,\n          credentials=\"same-origin\",\n          headers=Object.fromEntries(to_js({\"Content-Type\": \"application/x-www-form-urlencoded; charset=UTF-8\", \n                                            \"Accept\": \"text/csv\" })),\n        )\n    except:\n        raise RuntimeError(\"fetch failed\")\n    \n    \n    if resp.ok:\n        res = await resp.text()\n        # ld.admin.ch throws errors starting with '{\"message\":'\n        if '{\"message\":' in res:\n            error = json.loads(res)\n            raise RuntimeError(\"SPARQL query malformed: \" + error[\"message\"])\n        # geo.ld.admin.ch throws errors starting with 'Parse error:'\n        elif 'Parse error:' in res:\n            raise RuntimeError(\"SPARQL query malformed: \" + res)\n        else:\n            # if everything works out, create a pandas dataframe from the csv result\n            df = pd.read_csv(StringIO(res))\n            return df\n    else:\n        # fedlex.data.admin.ch throws error with response status 400\n        if resp.status == 400:\n            raise RuntimeError(\"Response status 400: Possible malformed SPARQL query. No syntactic advice available.\")\n        else:\n            raise RuntimeError(\"Response status \" + resp.status)",
      "metadata": {
        "trusted": true
      },
      "execution_count": 4,
      "outputs": []
    },
    {
      "cell_type": "markdown",
      "source": "Wenn Sie an Einzelheiten zur Verwendung der JavaScript-Abruf-API in JupyterLite interessiert sind, stehen Ihnen hier weitere Informationen zur Verfügung:\n\n- https://pyodide.org/en/stable/usage/faq.html#how-can-i-use-fetch-with-optional-arguments-from-python\n- https://github.com/jupyterlite/jupyterlite/discussions/412\n- https://lwebapp.com/en/post/pyodide-fetch",
      "metadata": {
        "trusted": true
      }
    },
    {
      "cell_type": "markdown",
      "source": "### Anzeige Funktion definieren\n\nZeigt den aus der SPARQL-Abfrage resultierenden Pandas-Dataframe als HTML mit anklickbaren Links an:",
      "metadata": {
        "trusted": true
      }
    },
    {
      "cell_type": "code",
      "source": "def display_result(df):\n    df = HTML(df.to_html(render_links=True, escape=False))\n    display(df)",
      "metadata": {
        "trusted": true
      },
      "execution_count": 5,
      "outputs": []
    },
    {
      "cell_type": "markdown",
      "source": "# Tutorial",
      "metadata": {}
    },
    {
      "cell_type": "markdown",
      "source": "* Einleitung Linked Data\n* Einleitung Datenmodell SR (Metadaten)\n* Einleitung SPARQL (Sparql endpoint)\n* 1. Abfrage: Liste aller SR mit titel short titel, datum, SR Nummer, link\n* 2. Abfrage: Versionen der Bundesverfassung mit Datei\n* Welche SR werden durch das neueste AS geändert",
      "metadata": {}
    },
    {
      "cell_type": "markdown",
      "source": "## Linked Data",
      "metadata": {}
    },
    {
      "cell_type": "markdown",
      "source": "Linked Data bedeutet, dass die Daten nicht als Tabellen sondern als Netwerke, sogenannte Knowlede-Graphs vabgespeichert sind.  \nEinzelne Informationseinheiten sind über sogenante **Triples** miteinander verbunden. Triples folgen der Grammatikalischen Struktur **Subjekt -> Prädikat -> Objekt** und können auch als grammatikalischer Satz verstanden werden. \n\nDie Information \"**Der Apfel ist grün**\" wird also mit dem Tripel **Apfel -> ist -> grün** ausgedrückt. Alle Teile eines Tripples sind dabei durch weitere Eigenschaften definiert und beschrieben die wiederum in Form von Triples beschrieben sind. Diese vielseitigen Verknüpfungen führen zu einer Netzwerkstruktur.\n\nEine weitere wichtige Komponente von Linked Data ist, dass alle Teile eines Tripples als URI (Universal Resource Identifier), also als eine Https-Webadresse angegeben sind, und ihre jeweiligen Eigenschaften über diese Webadresse abrufbar sind. Das ermöglicht die Verknüpfung von Daten aus verschieden Graphen und Datenbanken zu einem **Web of Knowledge**.\n\nIm folgenden Tutorial werden wir die Nutzung von Linked Data anhand der Fedlex-Datenbank Schritt für Schritt aufzeigen. Für weitere allgemeine Informationen über Linked Data siehe z.B: https://www.youtube.com/watch?v=ON0wf0SEPx8&list=PLoOmvuyo5UAfY6jb46jCpMoqb-dbVewxg ",
      "metadata": {}
    },
    {
      "cell_type": "markdown",
      "source": "## Daten und Datenmodell auf Fedlex",
      "metadata": {}
    },
    {
      "cell_type": "markdown",
      "source": "### Datenmodell jolux\n\nDie Datenbank von Fedlex besteht auf dem Datenmodel (auch Ontologie genannt) **jolux**, das uhrsprünglich aus Luxemburg kommt und inzwischen von der Schweiz und Luxemburg gemeinsam weiterentwickelt wird. In Linked Data definiert ein Datenmodell welche Art von Objekten es gibt, wie diese in Beziehung stehen können und mit welchem Vokabular (URIs) die Objekte und Beziehungen benannt werden.  \nWeitere Informationen über das Datenmodell jolux finden sie hier: https://fedlex.data.admin.ch/de-CH/home/models",
      "metadata": {}
    },
    {
      "cell_type": "markdown",
      "source": "### Amtliche Sammlung",
      "metadata": {}
    },
    {
      "cell_type": "markdown",
      "source": "In der **Amtlichen Sammlung (AS)** des Bundesrechts werden die neuen und geänderten Erlasse, Verträge und Beschlüsse chronologisch veröffentlicht. Typischerweise haben Beschlüsse die Form eines Mantelerlasses, in denen sowohl neue Gesetze erlassen werden, als auch schon bestehende geändert oder aufgehoben werden können. Jede Veröffentlichung in der Amtlichen Sammlung erhält eine eindeutige AS-Nummer (z.B. [AS 2021 654](https://www.fedlex.admin.ch/eli/oc/2021/654))",
      "metadata": {}
    },
    {
      "cell_type": "markdown",
      "source": "### Systematische Rechtssammlung",
      "metadata": {
        "tags": []
      }
    },
    {
      "cell_type": "markdown",
      "source": "Die **Systematische Rechtssammlung (SR)** des Bundesrechts stellt die consolidierte Fassung des aktuell gültigen Rechts basierend auf der Amtlichen Sammlung dar. Jeder Gesetzestext bekommt eine eindeutige SR-Nummer (z.B. [SR 101](https://www.fedlex.admin.ch/eli/cc/1999/404) für die Bundesverfassung), welche sich nicht auf eine bestimmte Version eines Gesetzes bezieht, sondern auf das Gesetz im Allgemeinen. Erscheint ein neuer Erlass in der AS der Teile des entsprechenden Gesetzes revidiert (z.B. Teile der Bundesverfassung durch [AS 2022 241](https://www.fedlex.admin.ch/eli/oc/2022/241)), so werden diese Änderungen in der Systematischen Rechtssammlung consolidiert und unter gleichbleibender SR-Nummer veröffentlicht (im Beispiel weiterhin SR 101).   ",
      "metadata": {}
    },
    {
      "cell_type": "markdown",
      "source": "### Metadaten und Triples",
      "metadata": {}
    },
    {
      "cell_type": "markdown",
      "source": "Mit welchen Linked Data Triples ein bestimmter Eintrag in der AS oder SR in der Datenbank beschrieben ist, lässt sich über den [Metadaten-Explorer](https://fedlex.data.admin.ch/de-CH/metadata) anzeigen. Dazu müssen die entsprechenden Linked Data URIs eingegeben werden.\n\nDie Linked Data URI, eines AS oder SR Eintrags, ist dabei analog zur Web-URL:\n* Web-URL: https://www.fedlex.admin.ch/eli/cc/1999/404\n* Linked Data URI: https://fedlex.data.admin.ch/eli/cc/1999/404\n\nDie URI eines AS oder SR Eintrags lässt sich auch über die Web-Darstellung finden in dem man auf das Ketten-Symbol direkt neben \"Alles einblenden\" klickt:\n<br><img src=\"img/sr101.jpg\" width=\"500px\">\n\n[In den Metadaten-Explorer eingegeben](https://fedlex.data.admin.ch/de-CH/metadata?value=https:%2F%2Ffedlex.data.admin.ch%2Feli%2Fcc%2F1999%2F404) zeigt die oben genannte URI die abgespeicherten Eigenschaften der Bundesverfassung.\n<br><img src=\"img/metadata.png\" width=\"500px\">",
      "metadata": {}
    },
    {
      "cell_type": "markdown",
      "source": "### Abkürzungen",
      "metadata": {}
    },
    {
      "cell_type": "markdown",
      "source": "URIs sind analog zu Webadressen aufgebaut und operieren auf sogenannten Namensräumen. Alle SR und AS Einträge lassen sich beispielsweise im Namensraum `https://fedlex.data.admin.ch/eli/` finden. Um die Lesbarkeit zu verbessern, können Abkürzungen definiert werden z.B. `fedlex`. Aus `https://fedlex.data.admin.ch/eli/cc/1999/404` wird dann `fedlex:cc/1999/404`.\n\nFür die weiteren Teile des Tutorials definieren wir folgenden Abkürzungen:\n* `fedlex` : `https://fedlex.data.admin.ch/eli/`; Namensraum für AS und SR Einträge\n* `jolux` : `http://data.legilux.public.lu/resource/ontology/jolux#`; Vokabular für das jolux Datenmodell\n* `skos` : `http://www.w3.org/2004/02/skos/core#`; Externes Vokabular für allgemeine Eigenschaften\n* `rdf` : `http://www.w3.org/1999/02/22-rdf-syntax-ns#`; Externes Vokabular für allgemeine Metadaten\n\nMehr zum Aufbau der URIs auf Fedlex finden sie [hier](https://fedlex.data.admin.ch/de-CH/home/convention)",
      "metadata": {}
    },
    {
      "cell_type": "markdown",
      "source": "## Das Datenmodell erforschen und die erste SPARQL Abfrage",
      "metadata": {
        "tags": []
      }
    },
    {
      "cell_type": "markdown",
      "source": "Um die gespeicherten Daten zur Bundesverfassung zu erhalten, gibt es vier Möglichkeiten:\n\n- Die HTML Version unter https://www.fedlex.admin.ch/eli/cc/1999/404/de\n- Den Metadaten-Explorer unter https://fedlex.data.admin.ch/de-CH/metadata?value=https://fedlex.data.admin.ch/eli/cc/1999/404\n- Die Abfrage der weiteren Daten mit SPARQL, einer Srache zum Abfragen von Linked Data Datenbanken (so genannten Triple Stores), ähnlich zu SQL.\n\nDie Website https://fedlex.admin.ch basiert auf Daten aus dem Triple Store. Informationen, die auf den HTML-Seiten von Fedlex zu sehen sind, sind also auch maschinenlesbar via SPARQL Abfrage verfügbar. Nachfolgend soll Schritt für Schritt das Datenmodell von Fedlex eingeführt werden und die entsprechenden SPARQL Queries aufgezeigt werden, um auf diese Daten maschinenlesbar zugreifen zu können.",
      "metadata": {}
    },
    {
      "cell_type": "markdown",
      "source": "### SPARQL",
      "metadata": {}
    },
    {
      "cell_type": "markdown",
      "source": "SPARQL ist eine Query-Sprache für Linked Data Triple Stores. Für eine allgemeine Einführung in SPARQL siehe z.B.: https://jena.apache.org/tutorials/sparql.html\n\nAbfragen (engl. Queries) können entweder direkt über ein SPARQL Interface (https://fedlex.data.admin.ch/de-CH/sparql) abgefragt werden, oder als HTTP-POST Request an ein SPARQL-Endpoint (https://fedlex.data.admin.ch/sparqlendpoint) gesendet werden.\n\nDie letztere Methode erlaubt es eigene Anwendungen zu bauen, die automatisch aktuelle Daten von Fedlex abfragen können. Für dieses Tutorial verwenden wir diese Methode. Die Abfragen sind jedoch in beiden Fällen identisch. Für die Abfrage über das Interface kopieren sie einfach den Teil zwischen den `\"\"\"`.",
      "metadata": {}
    },
    {
      "cell_type": "markdown",
      "source": "### Eigenschaften der Bundesvefassung",
      "metadata": {}
    },
    {
      "cell_type": "markdown",
      "source": "Eine SPARQL Abfrage funktioniert grob, in dem man Aussagen formuliert, und die Teile die man wissen möchte, durch Variablen ersetzt. Variablen sind in SPARQL durch ein vorangestelltes `?` gekennzeichnet.\n\nWenn wir die Eigenschaften der Bundesverfassung wissen wollen, also alle Triples (oder Aussagen) in denen die Bundesverfassung als Subjekt erscheint, dann lautet die entsprechende SPARQL Query wie folgt:",
      "metadata": {}
    },
    {
      "cell_type": "code",
      "source": "df = await query(\"\"\"\n\n# SELECT beschreibt welche Variablen zurückgegeben werden sollen.\n# Mit DISTINCT werden allfällige doppelte Ergebnisse aussortiert.\n\nSELECT DISTINCT ?prädikat ?objekt WHERE {\n    \n    # Die Aussage beginnt mit der URI der Bundesverfassung als Subjekt, setzt das Prädikat und Objekt als Variablen und endet mit einem Punkt.\n    <https://fedlex.data.admin.ch/eli/cc/1999/404> ?prädikat ?objekt .\n} \n\n\"\"\", \"F\")\n\ndisplay_result(df)",
      "metadata": {
        "trusted": true
      },
      "execution_count": 20,
      "outputs": [
        {
          "output_type": "display_data",
          "data": {
            "text/plain": "<IPython.core.display.HTML object>",
            "text/html": "<table border=\"1\" class=\"dataframe\">\n  <thead>\n    <tr style=\"text-align: right;\">\n      <th></th>\n      <th>prädikat</th>\n      <th>objekt</th>\n    </tr>\n  </thead>\n  <tbody>\n    <tr>\n      <th>0</th>\n      <td><a href=\"http://www.w3.org/1999/02/22-rdf-syntax-ns#type\" target=\"_blank\">http://www.w3.org/1999/02/22-rdf-syntax-ns#type</a></td>\n      <td><a href=\"http://data.legilux.public.lu/resource/ontology/jolux#Work\" target=\"_blank\">http://data.legilux.public.lu/resource/ontology/jolux#Work</a></td>\n    </tr>\n    <tr>\n      <th>1</th>\n      <td><a href=\"http://www.w3.org/1999/02/22-rdf-syntax-ns#type\" target=\"_blank\">http://www.w3.org/1999/02/22-rdf-syntax-ns#type</a></td>\n      <td><a href=\"http://data.legilux.public.lu/resource/ontology/jolux#WorkAtOj\" target=\"_blank\">http://data.legilux.public.lu/resource/ontology/jolux#WorkAtOj</a></td>\n    </tr>\n    <tr>\n      <th>2</th>\n      <td><a href=\"http://www.w3.org/1999/02/22-rdf-syntax-ns#type\" target=\"_blank\">http://www.w3.org/1999/02/22-rdf-syntax-ns#type</a></td>\n      <td><a href=\"http://data.legilux.public.lu/resource/ontology/jolux#ConsolidationAbstract\" target=\"_blank\">http://data.legilux.public.lu/resource/ontology/jolux#ConsolidationAbstract</a></td>\n    </tr>\n    <tr>\n      <th>3</th>\n      <td><a href=\"http://data.legilux.public.lu/resource/ontology/jolux#basicAct\" target=\"_blank\">http://data.legilux.public.lu/resource/ontology/jolux#basicAct</a></td>\n      <td><a href=\"https://fedlex.data.admin.ch/eli/oc/1999/404\" target=\"_blank\">https://fedlex.data.admin.ch/eli/oc/1999/404</a></td>\n    </tr>\n    <tr>\n      <th>4</th>\n      <td><a href=\"http://data.legilux.public.lu/resource/ontology/jolux#parliamentDraftId\" target=\"_blank\">http://data.legilux.public.lu/resource/ontology/jolux#parliamentDraftId</a></td>\n      <td>1996.091</td>\n    </tr>\n    <tr>\n      <th>5</th>\n      <td><a href=\"http://data.legilux.public.lu/resource/ontology/jolux#typeDocument\" target=\"_blank\">http://data.legilux.public.lu/resource/ontology/jolux#typeDocument</a></td>\n      <td><a href=\"https://fedlex.data.admin.ch/vocabulary/resource-type/55\" target=\"_blank\">https://fedlex.data.admin.ch/vocabulary/resource-type/55</a></td>\n    </tr>\n    <tr>\n      <th>6</th>\n      <td><a href=\"http://data.legilux.public.lu/resource/ontology/jolux#isRealizedBy\" target=\"_blank\">http://data.legilux.public.lu/resource/ontology/jolux#isRealizedBy</a></td>\n      <td><a href=\"https://fedlex.data.admin.ch/eli/cc/1999/404/de\" target=\"_blank\">https://fedlex.data.admin.ch/eli/cc/1999/404/de</a></td>\n    </tr>\n    <tr>\n      <th>7</th>\n      <td><a href=\"http://data.legilux.public.lu/resource/ontology/jolux#isRealizedBy\" target=\"_blank\">http://data.legilux.public.lu/resource/ontology/jolux#isRealizedBy</a></td>\n      <td><a href=\"https://fedlex.data.admin.ch/eli/cc/1999/404/en\" target=\"_blank\">https://fedlex.data.admin.ch/eli/cc/1999/404/en</a></td>\n    </tr>\n    <tr>\n      <th>8</th>\n      <td><a href=\"http://data.legilux.public.lu/resource/ontology/jolux#isRealizedBy\" target=\"_blank\">http://data.legilux.public.lu/resource/ontology/jolux#isRealizedBy</a></td>\n      <td><a href=\"https://fedlex.data.admin.ch/eli/cc/1999/404/fr\" target=\"_blank\">https://fedlex.data.admin.ch/eli/cc/1999/404/fr</a></td>\n    </tr>\n    <tr>\n      <th>9</th>\n      <td><a href=\"http://data.legilux.public.lu/resource/ontology/jolux#isRealizedBy\" target=\"_blank\">http://data.legilux.public.lu/resource/ontology/jolux#isRealizedBy</a></td>\n      <td><a href=\"https://fedlex.data.admin.ch/eli/cc/1999/404/it\" target=\"_blank\">https://fedlex.data.admin.ch/eli/cc/1999/404/it</a></td>\n    </tr>\n    <tr>\n      <th>10</th>\n      <td><a href=\"http://data.legilux.public.lu/resource/ontology/jolux#isRealizedBy\" target=\"_blank\">http://data.legilux.public.lu/resource/ontology/jolux#isRealizedBy</a></td>\n      <td><a href=\"https://fedlex.data.admin.ch/eli/cc/1999/404/rm\" target=\"_blank\">https://fedlex.data.admin.ch/eli/cc/1999/404/rm</a></td>\n    </tr>\n    <tr>\n      <th>11</th>\n      <td><a href=\"http://purl.org/dc/terms/identifier\" target=\"_blank\">http://purl.org/dc/terms/identifier</a></td>\n      <td>19995395</td>\n    </tr>\n    <tr>\n      <th>12</th>\n      <td><a href=\"http://data.legilux.public.lu/resource/ontology/jolux#historicalLegalId\" target=\"_blank\">http://data.legilux.public.lu/resource/ontology/jolux#historicalLegalId</a></td>\n      <td>101</td>\n    </tr>\n    <tr>\n      <th>13</th>\n      <td><a href=\"http://data.legilux.public.lu/resource/ontology/jolux#classifiedByTaxonomyEntry\" target=\"_blank\">http://data.legilux.public.lu/resource/ontology/jolux#classifiedByTaxonomyEntry</a></td>\n      <td><a href=\"https://fedlex.data.admin.ch/vocabulary/legal-taxonomy/4715\" target=\"_blank\">https://fedlex.data.admin.ch/vocabulary/legal-taxonomy/4715</a></td>\n    </tr>\n    <tr>\n      <th>14</th>\n      <td><a href=\"http://data.legilux.public.lu/resource/ontology/jolux#dateEntryInForce\" target=\"_blank\">http://data.legilux.public.lu/resource/ontology/jolux#dateEntryInForce</a></td>\n      <td>2000-01-01</td>\n    </tr>\n    <tr>\n      <th>15</th>\n      <td><a href=\"http://data.legilux.public.lu/resource/ontology/jolux#dateDocument\" target=\"_blank\">http://data.legilux.public.lu/resource/ontology/jolux#dateDocument</a></td>\n      <td>1999-04-18</td>\n    </tr>\n    <tr>\n      <th>16</th>\n      <td><a href=\"http://cogni.internal.system/model#firstPublicationDate\" target=\"_blank\">http://cogni.internal.system/model#firstPublicationDate</a></td>\n      <td>1999-09-28</td>\n    </tr>\n    <tr>\n      <th>17</th>\n      <td><a href=\"http://cogni.internal.system/model#skipIndex\" target=\"_blank\">http://cogni.internal.system/model#skipIndex</a></td>\n      <td>0</td>\n    </tr>\n  </tbody>\n</table>"
          },
          "metadata": {}
        }
      ]
    },
    {
      "cell_type": "markdown",
      "source": "Das Ergebniss sind die URIs oder Werte (Literals) der Prädikate und Objekte die in allen abgespeicherten Triples mit der Bundesverfassung als Subjekt vorkommen.",
      "metadata": {}
    },
    {
      "cell_type": "markdown",
      "source": "Wir sehen, dass der Eintrag vom `rdf:type` `jolux:ConsolidationAbstract` ist. Dieser Type beschreibt Einträge die einen SR-Eintrag darstellen, also ein Gesetz auf Abstrakter Ebene repräsentieren, anstatt einer bestimmten Version des Textes.",
      "metadata": {}
    },
    {
      "cell_type": "markdown",
      "source": "### Expressions: Sprachversionen",
      "metadata": {}
    },
    {
      "cell_type": "markdown",
      "source": "Da Alle Texte in mindestens vier, manchmal fünf Sprachen existieren, gibt es von jedem Eintrag verschiedene Sprachversionen. Diese sind vom `rdf:type` `jolux:Expression` und sind durch die Eigenschaft `jolux:isRealizedBy` mit dem Sprachübergreifenden Eintrag verknüpft.",
      "metadata": {}
    },
    {
      "cell_type": "markdown",
      "source": "Mit einem Klick auf die URI der deutschen Sprachversion (https://fedlex.data.admin.ch/eli/cc/1999/404/de) sehen wir, dass wir hier sowohl Titel, Abkürzung, als auch die SR Nummer auf deutsch finden. \n\n<br><br><img src=img/expression.svg>\n<br><br>\n\nAusgehend von der URI der Bundesverfassung können wir diese Informationen also abfragen mit:",
      "metadata": {}
    },
    {
      "cell_type": "code",
      "source": "df = await query(\"\"\"\n\n# Definition von Abkürzungen zur besseren Lesbarkeit\nPREFIX jolux: <http://data.legilux.public.lu/resource/ontology/jolux#>\n\nSELECT DISTINCT ?SR_Nummer ?Titel ?Abkürzung WHERE {\n    \n    # Die erste Aussage wählt alle Expressions (Sprachversionen) aus die durch jolux:isRealizedBy mit der Bundesverfassung verknüpft sind.\n    <https://fedlex.data.admin.ch/eli/cc/1999/404> jolux:isRealizedBy ?expression .\n    \n    # Die zweite Aussage grenzt die Expressions ein zu der, die als Sprache Deutsch hat.\n    ?expression jolux:language <http://publications.europa.eu/resource/authority/language/DEU> .\n    \n    # Die nächsten Aussagen fragen die gewünschen Daten ab, jeweils mit der Expression als Subjekt (möglich durch das Beenden der Aussage mit ; anstatt .)\n    ?expression jolux:title ?Titel ;\n                jolux:titleShort ?Abkürzung ; \n                jolux:historicalLegalId ?SR_Nummer .\n} \n\n\"\"\", \"F\")\n\ndisplay_result(df)",
      "metadata": {
        "trusted": true
      },
      "execution_count": 22,
      "outputs": [
        {
          "output_type": "display_data",
          "data": {
            "text/plain": "<IPython.core.display.HTML object>",
            "text/html": "<table border=\"1\" class=\"dataframe\">\n  <thead>\n    <tr style=\"text-align: right;\">\n      <th></th>\n      <th>SR_Nummer</th>\n      <th>Titel</th>\n      <th>Abkürzung</th>\n    </tr>\n  </thead>\n  <tbody>\n    <tr>\n      <th>0</th>\n      <td>101</td>\n      <td>Bundesverfassung der Schweizerischen Eidgenossenschaft vom 18. April 1999</td>\n      <td>BV</td>\n    </tr>\n  </tbody>\n</table>"
          },
          "metadata": {}
        }
      ]
    },
    {
      "cell_type": "markdown",
      "source": "### Liste aller SR Einträge",
      "metadata": {}
    },
    {
      "cell_type": "markdown",
      "source": "Basierend auf dem was wir bereits gelernt haben können wir nun ganz einfach eine Liste aller SR-Einträge und die dazugehörigen Metadaten abfragen indem wir einfach die URI der Bundesverfassung durch eine Variable ersetzen die vom `rdf:type` `jolux:ConsolidationAbstract` sein soll (also einen SR Eintrag darstellt):",
      "metadata": {}
    },
    {
      "cell_type": "code",
      "source": "df = await query(\"\"\"\n\n# Definition von Abkürzungen zur besseren Lesbarkeit\nPREFIX rdf: <http://www.w3.org/1999/02/22-rdf-syntax-ns#>\nPREFIX jolux: <http://data.legilux.public.lu/resource/ontology/jolux#>\n\nSELECT DISTINCT ?SR_Nummer ?Titel ?Abkürzung ?SR_URI WHERE {\n    \n    # Alle SR Einträge und ihre Expressions auswählen\n    ?SR_URI rdf:type jolux:ConsolidationAbstract .\n    ?SR_URI jolux:isRealizedBy ?expression .\n    \n    ?expression jolux:language <http://publications.europa.eu/resource/authority/language/DEU> .\n    \n    ?expression jolux:title ?Titel ;\n                jolux:titleShort ?Abkürzung ; \n                jolux:historicalLegalId ?SR_Nummer .\n} \n\n# Wir beschränken die Ausgabe auf die ersten 10 Einträge\nLIMIT 10\n\n\"\"\", \"F\")\n\ndisplay_result(df)",
      "metadata": {
        "trusted": true
      },
      "execution_count": 26,
      "outputs": [
        {
          "output_type": "display_data",
          "data": {
            "text/plain": "<IPython.core.display.HTML object>",
            "text/html": "<table border=\"1\" class=\"dataframe\">\n  <thead>\n    <tr style=\"text-align: right;\">\n      <th></th>\n      <th>SR_Nummer</th>\n      <th>Titel</th>\n      <th>Abkürzung</th>\n      <th>SR_URI</th>\n    </tr>\n  </thead>\n  <tbody>\n    <tr>\n      <th>0</th>\n      <td>734.000</td>\n      <td>Bundesgesetz vom 24. Juni 1902 betreffend die elektrischen Schwach- und Starkstromanlagen (Elektrizitätsgesetz, EleG)</td>\n      <td>EleG</td>\n      <td><a href=\"https://fedlex.data.admin.ch/eli/cc/19/259_252_257\" target=\"_blank\">https://fedlex.data.admin.ch/eli/cc/19/259_252_257</a></td>\n    </tr>\n    <tr>\n      <th>1</th>\n      <td>836.100</td>\n      <td>Bundesgesetz vom 20. Juni 1952 über die Familienzulagen in der Landwirtschaft (FLG)</td>\n      <td>FLG</td>\n      <td><a href=\"https://fedlex.data.admin.ch/eli/cc/1952/823_843_839\" target=\"_blank\">https://fedlex.data.admin.ch/eli/cc/1952/823_843_839</a></td>\n    </tr>\n    <tr>\n      <th>2</th>\n      <td>916.350</td>\n      <td>Beschluss der Bundesversammlung vom 29. September 1953 über Milch, Milchprodukte und Speisefette (Milchbeschluss)</td>\n      <td>MB</td>\n      <td><a href=\"https://fedlex.data.admin.ch/eli/cc/1953/1109_1132_1172\" target=\"_blank\">https://fedlex.data.admin.ch/eli/cc/1953/1109_1132_1172</a></td>\n    </tr>\n    <tr>\n      <th>3</th>\n      <td>613.100</td>\n      <td>Bundesgesetz vom 19. Juni 1959 über den Finanzausgleich unter den Kantonen</td>\n      <td>FAG</td>\n      <td><a href=\"https://fedlex.data.admin.ch/eli/cc/1959/931_961_953\" target=\"_blank\">https://fedlex.data.admin.ch/eli/cc/1959/931_961_953</a></td>\n    </tr>\n    <tr>\n      <th>4</th>\n      <td>831.201</td>\n      <td>Verordnung vom 17. Januar 1961 über die Invalidenversicherung (IVV)</td>\n      <td>IVV</td>\n      <td><a href=\"https://fedlex.data.admin.ch/eli/cc/1961/29_29_29\" target=\"_blank\">https://fedlex.data.admin.ch/eli/cc/1961/29_29_29</a></td>\n    </tr>\n    <tr>\n      <th>5</th>\n      <td>746.100</td>\n      <td>Bundesgesetz vom 4. Oktober 1963 über Rohrleitungsanlagen zur Beförderung flüssiger oder gasförmiger Brenn- oder Treibstoffe (Rohrleitungsgesetz, RLG)</td>\n      <td>RLG</td>\n      <td><a href=\"https://fedlex.data.admin.ch/eli/cc/1964/99_95_95\" target=\"_blank\">https://fedlex.data.admin.ch/eli/cc/1964/99_95_95</a></td>\n    </tr>\n    <tr>\n      <th>6</th>\n      <td>416.000</td>\n      <td>Bundesgesetz vom 19. März 1965 über die Gewährung von Beiträgen an die Aufwendungen der Kantone für Ausbildungsbeihilfen (Ausbildungsbeihilfengesetz)</td>\n      <td>StipG</td>\n      <td><a href=\"https://fedlex.data.admin.ch/eli/cc/1965/477_481_475\" target=\"_blank\">https://fedlex.data.admin.ch/eli/cc/1965/477_481_475</a></td>\n    </tr>\n    <tr>\n      <th>7</th>\n      <td>741.410</td>\n      <td>Verordnung vom 27. August 1969 über Bau und Ausrüstung der Strassenfahrzeuge (BAV)</td>\n      <td>BAV</td>\n      <td><a href=\"https://fedlex.data.admin.ch/eli/cc/1969/821_841_839\" target=\"_blank\">https://fedlex.data.admin.ch/eli/cc/1969/821_841_839</a></td>\n    </tr>\n    <tr>\n      <th>8</th>\n      <td>952.020</td>\n      <td>Verordnung vom 17. Mai 1972 über die Banken und Sparkassen (Bankenverordnung, BankV)</td>\n      <td>BankV</td>\n      <td><a href=\"https://fedlex.data.admin.ch/eli/cc/1972/821_832_752\" target=\"_blank\">https://fedlex.data.admin.ch/eli/cc/1972/821_832_752</a></td>\n    </tr>\n    <tr>\n      <th>9</th>\n      <td>514.511</td>\n      <td>Verordnung vom 10. Januar 1973 über das Kriegsmaterial</td>\n      <td>VKM</td>\n      <td><a href=\"https://fedlex.data.admin.ch/eli/cc/1973/116_114_120\" target=\"_blank\">https://fedlex.data.admin.ch/eli/cc/1973/116_114_120</a></td>\n    </tr>\n  </tbody>\n</table>"
          },
          "metadata": {}
        }
      ]
    },
    {
      "cell_type": "markdown",
      "source": "Der Übersicht halber wurde die Ausgabe mit dem Keyword `LIMIT` auf die ersten 10 Einträge begrenzt.",
      "metadata": {}
    },
    {
      "cell_type": "code",
      "source": "",
      "metadata": {},
      "execution_count": null,
      "outputs": []
    },
    {
      "cell_type": "code",
      "source": "",
      "metadata": {},
      "execution_count": null,
      "outputs": []
    },
    {
      "cell_type": "markdown",
      "source": "# Ab hier Work in Progress",
      "metadata": {}
    },
    {
      "cell_type": "markdown",
      "source": "### Die Bundesverfassung als PDF\n\nAls nächstes Ziel soll ein Link auf die PDF Datei der Bundesverfassung abgefragt werden. Dazu muss etwas tiefer ins Datenmodell eingestigen werden. Ein Blick auf die ausgehenden Verbindungen der Bundesverfassung lässt die Vermutung zu, dass sich evt. unter der URI https://fedlex.data.admin.ch/eli/cc/1999/404/de etwas verbergen würden. Ein Klick auf die URI (die einem automatisch zum Metadatenviewer bringt), zeigt aber auf, dass dies eher eine Sackgasse ist. Interessanter sind die Links [jolux:isMemberOf](http://data.legilux.public.lu/resource/ontology/jolux#isMemberOf), da wäre bspw. https://fedlex.data.admin.ch/eli/cc/1999/404/20220213, die Ansicht im [Metadatenviewer](https://fedlex.data.admin.ch/de-CH/metadata?value=https:%2F%2Ffedlex.data.admin.ch%2Feli%2Fcc%2F1999%2F404%2F20220213) zeigt, dass es dort über [jolux:isRealizedBy](http://data.legilux.public.lu/resource/ontology/jolux#isRealizedBy) die URI https://fedlex.data.admin.ch/eli/cc/1999/404/20220213/de zu finden ist. Weiters Vorarbeiten im Datenmodell bringt die in der folgenden Grafik illustrierten Zusammenhänge zum Vorschein: <br><br><img src=img/sr1.svg>\n<br><br>\nDementsprechend kann nun die folgende SPARQL Query für die PDF aller verschiedener Versionen der Bundesverfassung erstellt werden:",
      "metadata": {}
    },
    {
      "cell_type": "code",
      "source": "df = await query(\"\"\"\n\nPREFIX skos: <http://www.w3.org/2004/02/skos/core#>\nPREFIX purl: <http://purl.org/dc/terms/>\nPREFIX jolux: <http://data.legilux.public.lu/resource/ontology/jolux#>\n\nSELECT DISTINCT ?link WHERE {\n\n    <https://fedlex.data.admin.ch/eli/cc/1999/404> ^jolux:isMemberOf/jolux:isRealizedBy ?expression.\n    \n    ?expression jolux:language <http://publications.europa.eu/resource/authority/language/DEU>;\n        jolux:isEmbodiedBy ?manifestation.\n    \n    ?manifestation jolux:format <http://publications.europa.eu/resource/authority/file-type/PDF>;\n        jolux:isExemplifiedBy ?link\n\n}\n\n\"\"\", \"F\")\n\ndisplay_result(df)",
      "metadata": {
        "trusted": true
      },
      "execution_count": 18,
      "outputs": [
        {
          "output_type": "display_data",
          "data": {
            "text/plain": "<IPython.core.display.HTML object>",
            "text/html": "<table border=\"1\" class=\"dataframe\">\n  <thead>\n    <tr style=\"text-align: right;\">\n      <th></th>\n      <th>link</th>\n    </tr>\n  </thead>\n  <tbody>\n    <tr>\n      <th>0</th>\n      <td><a href=\"https://fedlex.data.admin.ch/filestore/fedlex.data.admin.ch/eli/cc/1999/404/20090517/de/pdf-a/fedlex-data-admin-ch-eli-cc-1999-404-20090517-de-pdf-a.pdf\" target=\"_blank\">https://fedlex.data.admin.ch/filestore/fedlex.data.admin.ch/eli/cc/1999/404/20090517/de/pdf-a/fedlex-data-admin-ch-eli-cc-1999-404-20090517-de-pdf-a.pdf</a></td>\n    </tr>\n    <tr>\n      <th>1</th>\n      <td><a href=\"https://fedlex.data.admin.ch/filestore/fedlex.data.admin.ch/eli/cc/1999/404/20051127/de/pdf-a/fedlex-data-admin-ch-eli-cc-1999-404-20051127-de-pdf-a.pdf\" target=\"_blank\">https://fedlex.data.admin.ch/filestore/fedlex.data.admin.ch/eli/cc/1999/404/20051127/de/pdf-a/fedlex-data-admin-ch-eli-cc-1999-404-20051127-de-pdf-a.pdf</a></td>\n    </tr>\n    <tr>\n      <th>2</th>\n      <td><a href=\"https://fedlex.data.admin.ch/filestore/fedlex.data.admin.ch/eli/cc/1999/404/20080101/de/pdf-a/fedlex-data-admin-ch-eli-cc-1999-404-20080101-de-pdf-a.pdf\" target=\"_blank\">https://fedlex.data.admin.ch/filestore/fedlex.data.admin.ch/eli/cc/1999/404/20080101/de/pdf-a/fedlex-data-admin-ch-eli-cc-1999-404-20080101-de-pdf-a.pdf</a></td>\n    </tr>\n    <tr>\n      <th>3</th>\n      <td><a href=\"https://fedlex.data.admin.ch/filestore/fedlex.data.admin.ch/eli/cc/1999/404/20100307/de/pdf-a/fedlex-data-admin-ch-eli-cc-1999-404-20100307-de-pdf-a.pdf\" target=\"_blank\">https://fedlex.data.admin.ch/filestore/fedlex.data.admin.ch/eli/cc/1999/404/20100307/de/pdf-a/fedlex-data-admin-ch-eli-cc-1999-404-20100307-de-pdf-a.pdf</a></td>\n    </tr>\n    <tr>\n      <th>4</th>\n      <td><a href=\"https://fedlex.data.admin.ch/filestore/fedlex.data.admin.ch/eli/cc/1999/404/20110101/de/pdf-a/fedlex-data-admin-ch-eli-cc-1999-404-20110101-de-pdf-a.pdf\" target=\"_blank\">https://fedlex.data.admin.ch/filestore/fedlex.data.admin.ch/eli/cc/1999/404/20110101/de/pdf-a/fedlex-data-admin-ch-eli-cc-1999-404-20110101-de-pdf-a.pdf</a></td>\n    </tr>\n    <tr>\n      <th>5</th>\n      <td><a href=\"https://fedlex.data.admin.ch/filestore/fedlex.data.admin.ch/eli/cc/1999/404/20170924/de/pdf-a/fedlex-data-admin-ch-eli-cc-1999-404-20170924-de-pdf-a.pdf\" target=\"_blank\">https://fedlex.data.admin.ch/filestore/fedlex.data.admin.ch/eli/cc/1999/404/20170924/de/pdf-a/fedlex-data-admin-ch-eli-cc-1999-404-20170924-de-pdf-a.pdf</a></td>\n    </tr>\n    <tr>\n      <th>6</th>\n      <td><a href=\"https://fedlex.data.admin.ch/filestore/fedlex.data.admin.ch/eli/cc/1999/404/20060521/de/pdf-a/fedlex-data-admin-ch-eli-cc-1999-404-20060521-de-pdf-a.pdf\" target=\"_blank\">https://fedlex.data.admin.ch/filestore/fedlex.data.admin.ch/eli/cc/1999/404/20060521/de/pdf-a/fedlex-data-admin-ch-eli-cc-1999-404-20060521-de-pdf-a.pdf</a></td>\n    </tr>\n    <tr>\n      <th>7</th>\n      <td><a href=\"https://fedlex.data.admin.ch/filestore/fedlex.data.admin.ch/eli/cc/1999/404/20091129/de/pdf-a/fedlex-data-admin-ch-eli-cc-1999-404-20091129-de-pdf-a.pdf\" target=\"_blank\">https://fedlex.data.admin.ch/filestore/fedlex.data.admin.ch/eli/cc/1999/404/20091129/de/pdf-a/fedlex-data-admin-ch-eli-cc-1999-404-20091129-de-pdf-a.pdf</a></td>\n    </tr>\n    <tr>\n      <th>8</th>\n      <td><a href=\"https://fedlex.data.admin.ch/filestore/fedlex.data.admin.ch/eli/cc/1999/404/20120311/de/pdf-a/fedlex-data-admin-ch-eli-cc-1999-404-20120311-de-pdf-a.pdf\" target=\"_blank\">https://fedlex.data.admin.ch/filestore/fedlex.data.admin.ch/eli/cc/1999/404/20120311/de/pdf-a/fedlex-data-admin-ch-eli-cc-1999-404-20120311-de-pdf-a.pdf</a></td>\n    </tr>\n    <tr>\n      <th>9</th>\n      <td><a href=\"https://fedlex.data.admin.ch/filestore/fedlex.data.admin.ch/eli/cc/1999/404/20120923/de/pdf-a/fedlex-data-admin-ch-eli-cc-1999-404-20120923-de-pdf-a.pdf\" target=\"_blank\">https://fedlex.data.admin.ch/filestore/fedlex.data.admin.ch/eli/cc/1999/404/20120923/de/pdf-a/fedlex-data-admin-ch-eli-cc-1999-404-20120923-de-pdf-a.pdf</a></td>\n    </tr>\n    <tr>\n      <th>10</th>\n      <td><a href=\"https://fedlex.data.admin.ch/filestore/fedlex.data.admin.ch/eli/cc/1999/404/20160101/de/pdf-a/fedlex-data-admin-ch-eli-cc-1999-404-20160101-de-pdf-a.pdf\" target=\"_blank\">https://fedlex.data.admin.ch/filestore/fedlex.data.admin.ch/eli/cc/1999/404/20160101/de/pdf-a/fedlex-data-admin-ch-eli-cc-1999-404-20160101-de-pdf-a.pdf</a></td>\n    </tr>\n    <tr>\n      <th>11</th>\n      <td><a href=\"https://fedlex.data.admin.ch/filestore/fedlex.data.admin.ch/eli/cc/1999/404/20010610/de/pdf-a/fedlex-data-admin-ch-eli-cc-1999-404-20010610-de-pdf-a.pdf\" target=\"_blank\">https://fedlex.data.admin.ch/filestore/fedlex.data.admin.ch/eli/cc/1999/404/20010610/de/pdf-a/fedlex-data-admin-ch-eli-cc-1999-404-20010610-de-pdf-a.pdf</a></td>\n    </tr>\n    <tr>\n      <th>12</th>\n      <td><a href=\"https://fedlex.data.admin.ch/filestore/fedlex.data.admin.ch/eli/cc/1999/404/20070101/de/pdf-a/fedlex-data-admin-ch-eli-cc-1999-404-20070101-de-pdf-a.pdf\" target=\"_blank\">https://fedlex.data.admin.ch/filestore/fedlex.data.admin.ch/eli/cc/1999/404/20070101/de/pdf-a/fedlex-data-admin-ch-eli-cc-1999-404-20070101-de-pdf-a.pdf</a></td>\n    </tr>\n    <tr>\n      <th>13</th>\n      <td><a href=\"https://fedlex.data.admin.ch/filestore/fedlex.data.admin.ch/eli/cc/1999/404/20140209/de/pdf-a/fedlex-data-admin-ch-eli-cc-1999-404-20140209-de-pdf-a.pdf\" target=\"_blank\">https://fedlex.data.admin.ch/filestore/fedlex.data.admin.ch/eli/cc/1999/404/20140209/de/pdf-a/fedlex-data-admin-ch-eli-cc-1999-404-20140209-de-pdf-a.pdf</a></td>\n    </tr>\n    <tr>\n      <th>14</th>\n      <td><a href=\"https://fedlex.data.admin.ch/filestore/fedlex.data.admin.ch/eli/cc/1999/404/20140518/de/pdf-a/fedlex-data-admin-ch-eli-cc-1999-404-20140518-de-pdf-a.pdf\" target=\"_blank\">https://fedlex.data.admin.ch/filestore/fedlex.data.admin.ch/eli/cc/1999/404/20140518/de/pdf-a/fedlex-data-admin-ch-eli-cc-1999-404-20140518-de-pdf-a.pdf</a></td>\n    </tr>\n    <tr>\n      <th>15</th>\n      <td><a href=\"https://fedlex.data.admin.ch/filestore/fedlex.data.admin.ch/eli/cc/1999/404/20050302/de/pdf-a/fedlex-data-admin-ch-eli-cc-1999-404-20050302-de-pdf-a.pdf\" target=\"_blank\">https://fedlex.data.admin.ch/filestore/fedlex.data.admin.ch/eli/cc/1999/404/20050302/de/pdf-a/fedlex-data-admin-ch-eli-cc-1999-404-20050302-de-pdf-a.pdf</a></td>\n    </tr>\n    <tr>\n      <th>16</th>\n      <td><a href=\"https://fedlex.data.admin.ch/filestore/fedlex.data.admin.ch/eli/cc/1999/404/20130303/de/pdf-a/fedlex-data-admin-ch-eli-cc-1999-404-20130303-de-pdf-a.pdf\" target=\"_blank\">https://fedlex.data.admin.ch/filestore/fedlex.data.admin.ch/eli/cc/1999/404/20130303/de/pdf-a/fedlex-data-admin-ch-eli-cc-1999-404-20130303-de-pdf-a.pdf</a></td>\n    </tr>\n    <tr>\n      <th>17</th>\n      <td><a href=\"https://fedlex.data.admin.ch/filestore/fedlex.data.admin.ch/eli/cc/1999/404/20150614/de/pdf-a/fedlex-data-admin-ch-eli-cc-1999-404-20150614-de-pdf-a.pdf\" target=\"_blank\">https://fedlex.data.admin.ch/filestore/fedlex.data.admin.ch/eli/cc/1999/404/20150614/de/pdf-a/fedlex-data-admin-ch-eli-cc-1999-404-20150614-de-pdf-a.pdf</a></td>\n    </tr>\n    <tr>\n      <th>18</th>\n      <td><a href=\"https://fedlex.data.admin.ch/filestore/fedlex.data.admin.ch/eli/cc/1999/404/20180101/de/pdf-a/fedlex-data-admin-ch-eli-cc-1999-404-20180101-de-pdf-a.pdf\" target=\"_blank\">https://fedlex.data.admin.ch/filestore/fedlex.data.admin.ch/eli/cc/1999/404/20180101/de/pdf-a/fedlex-data-admin-ch-eli-cc-1999-404-20180101-de-pdf-a.pdf</a></td>\n    </tr>\n    <tr>\n      <th>19</th>\n      <td><a href=\"https://fedlex.data.admin.ch/filestore/fedlex.data.admin.ch/eli/cc/1999/404/20170212/de/pdf-a/fedlex-data-admin-ch-eli-cc-1999-404-20170212-de-pdf-a.pdf\" target=\"_blank\">https://fedlex.data.admin.ch/filestore/fedlex.data.admin.ch/eli/cc/1999/404/20170212/de/pdf-a/fedlex-data-admin-ch-eli-cc-1999-404-20170212-de-pdf-a.pdf</a></td>\n    </tr>\n    <tr>\n      <th>20</th>\n      <td><a href=\"https://fedlex.data.admin.ch/filestore/fedlex.data.admin.ch/eli/cc/1999/404/20200101/de/pdf-a/fedlex-data-admin-ch-eli-cc-1999-404-20200101-de-pdf-a.pdf\" target=\"_blank\">https://fedlex.data.admin.ch/filestore/fedlex.data.admin.ch/eli/cc/1999/404/20200101/de/pdf-a/fedlex-data-admin-ch-eli-cc-1999-404-20200101-de-pdf-a.pdf</a></td>\n    </tr>\n    <tr>\n      <th>21</th>\n      <td><a href=\"https://fedlex.data.admin.ch/filestore/fedlex.data.admin.ch/eli/cc/1999/404/20000101/de/pdf-a/fedlex-data-admin-ch-eli-cc-1999-404-20000101-de-pdf-a.pdf\" target=\"_blank\">https://fedlex.data.admin.ch/filestore/fedlex.data.admin.ch/eli/cc/1999/404/20000101/de/pdf-a/fedlex-data-admin-ch-eli-cc-1999-404-20000101-de-pdf-a.pdf</a></td>\n    </tr>\n    <tr>\n      <th>22</th>\n      <td><a href=\"https://fedlex.data.admin.ch/filestore/fedlex.data.admin.ch/eli/cc/1999/404/20030801/de/pdf-a/fedlex-data-admin-ch-eli-cc-1999-404-20030801-de-pdf-a.pdf\" target=\"_blank\">https://fedlex.data.admin.ch/filestore/fedlex.data.admin.ch/eli/cc/1999/404/20030801/de/pdf-a/fedlex-data-admin-ch-eli-cc-1999-404-20030801-de-pdf-a.pdf</a></td>\n    </tr>\n    <tr>\n      <th>23</th>\n      <td><a href=\"https://fedlex.data.admin.ch/filestore/fedlex.data.admin.ch/eli/cc/1999/404/20210307/de/pdf-a/fedlex-data-admin-ch-eli-cc-1999-404-20210307-de-pdf-a-3.pdf\" target=\"_blank\">https://fedlex.data.admin.ch/filestore/fedlex.data.admin.ch/eli/cc/1999/404/20210307/de/pdf-a/fedlex-data-admin-ch-eli-cc-1999-404-20210307-de-pdf-a-3.pdf</a></td>\n    </tr>\n    <tr>\n      <th>24</th>\n      <td><a href=\"https://fedlex.data.admin.ch/filestore/fedlex.data.admin.ch/eli/cc/1999/404/20211128/de/pdf-a/fedlex-data-admin-ch-eli-cc-1999-404-20211128-de-pdf-a-2.pdf\" target=\"_blank\">https://fedlex.data.admin.ch/filestore/fedlex.data.admin.ch/eli/cc/1999/404/20211128/de/pdf-a/fedlex-data-admin-ch-eli-cc-1999-404-20211128-de-pdf-a-2.pdf</a></td>\n    </tr>\n    <tr>\n      <th>25</th>\n      <td><a href=\"https://fedlex.data.admin.ch/filestore/fedlex.data.admin.ch/eli/cc/1999/404/20220213/de/pdf-a/fedlex-data-admin-ch-eli-cc-1999-404-20220213-de-pdf-a-4.pdf\" target=\"_blank\">https://fedlex.data.admin.ch/filestore/fedlex.data.admin.ch/eli/cc/1999/404/20220213/de/pdf-a/fedlex-data-admin-ch-eli-cc-1999-404-20220213-de-pdf-a-4.pdf</a></td>\n    </tr>\n    <tr>\n      <th>26</th>\n      <td><a href=\"https://fedlex.data.admin.ch/filestore/fedlex.data.admin.ch/eli/cc/1999/404/20020303/de/pdf-a/fedlex-data-admin-ch-eli-cc-1999-404-20020303-de-pdf-a.pdf\" target=\"_blank\">https://fedlex.data.admin.ch/filestore/fedlex.data.admin.ch/eli/cc/1999/404/20020303/de/pdf-a/fedlex-data-admin-ch-eli-cc-1999-404-20020303-de-pdf-a.pdf</a></td>\n    </tr>\n    <tr>\n      <th>27</th>\n      <td><a href=\"https://fedlex.data.admin.ch/filestore/fedlex.data.admin.ch/eli/cc/1999/404/20040208/de/pdf-a/fedlex-data-admin-ch-eli-cc-1999-404-20040208-de-pdf-a.pdf\" target=\"_blank\">https://fedlex.data.admin.ch/filestore/fedlex.data.admin.ch/eli/cc/1999/404/20040208/de/pdf-a/fedlex-data-admin-ch-eli-cc-1999-404-20040208-de-pdf-a.pdf</a></td>\n    </tr>\n    <tr>\n      <th>28</th>\n      <td><a href=\"https://fedlex.data.admin.ch/filestore/fedlex.data.admin.ch/eli/cc/1999/404/20090927/de/pdf-a/fedlex-data-admin-ch-eli-cc-1999-404-20090927-de-pdf-a.pdf\" target=\"_blank\">https://fedlex.data.admin.ch/filestore/fedlex.data.admin.ch/eli/cc/1999/404/20090927/de/pdf-a/fedlex-data-admin-ch-eli-cc-1999-404-20090927-de-pdf-a.pdf</a></td>\n    </tr>\n    <tr>\n      <th>29</th>\n      <td><a href=\"https://fedlex.data.admin.ch/filestore/fedlex.data.admin.ch/eli/cc/1999/404/20180923/de/pdf-a/fedlex-data-admin-ch-eli-cc-1999-404-20180923-de-pdf-a.pdf\" target=\"_blank\">https://fedlex.data.admin.ch/filestore/fedlex.data.admin.ch/eli/cc/1999/404/20180923/de/pdf-a/fedlex-data-admin-ch-eli-cc-1999-404-20180923-de-pdf-a.pdf</a></td>\n    </tr>\n    <tr>\n      <th>30</th>\n      <td><a href=\"https://fedlex.data.admin.ch/filestore/fedlex.data.admin.ch/eli/cc/1999/404/20011202/de/pdf-a/fedlex-data-admin-ch-eli-cc-1999-404-20011202-de-pdf-a.pdf\" target=\"_blank\">https://fedlex.data.admin.ch/filestore/fedlex.data.admin.ch/eli/cc/1999/404/20011202/de/pdf-a/fedlex-data-admin-ch-eli-cc-1999-404-20011202-de-pdf-a.pdf</a></td>\n    </tr>\n    <tr>\n      <th>31</th>\n      <td><a href=\"https://fedlex.data.admin.ch/filestore/fedlex.data.admin.ch/eli/cc/1999/404/20030401/de/pdf-a/fedlex-data-admin-ch-eli-cc-1999-404-20030401-de-pdf-a.pdf\" target=\"_blank\">https://fedlex.data.admin.ch/filestore/fedlex.data.admin.ch/eli/cc/1999/404/20030401/de/pdf-a/fedlex-data-admin-ch-eli-cc-1999-404-20030401-de-pdf-a.pdf</a></td>\n    </tr>\n    <tr>\n      <th>32</th>\n      <td><a href=\"https://fedlex.data.admin.ch/filestore/fedlex.data.admin.ch/eli/cc/1999/404/20081130/de/pdf-a/fedlex-data-admin-ch-eli-cc-1999-404-20081130-de-pdf-a.pdf\" target=\"_blank\">https://fedlex.data.admin.ch/filestore/fedlex.data.admin.ch/eli/cc/1999/404/20081130/de/pdf-a/fedlex-data-admin-ch-eli-cc-1999-404-20081130-de-pdf-a.pdf</a></td>\n    </tr>\n    <tr>\n      <th>33</th>\n      <td><a href=\"https://fedlex.data.admin.ch/filestore/fedlex.data.admin.ch/eli/cc/1999/404/20101128/de/pdf-a/fedlex-data-admin-ch-eli-cc-1999-404-20101128-de-pdf-a.pdf\" target=\"_blank\">https://fedlex.data.admin.ch/filestore/fedlex.data.admin.ch/eli/cc/1999/404/20101128/de/pdf-a/fedlex-data-admin-ch-eli-cc-1999-404-20101128-de-pdf-a.pdf</a></td>\n    </tr>\n    <tr>\n      <th>34</th>\n      <td><a href=\"https://fedlex.data.admin.ch/filestore/fedlex.data.admin.ch/eli/cc/1999/404/20210101/de/pdf-a/fedlex-data-admin-ch-eli-cc-1999-404-20210101-de-pdf-a-2.pdf\" target=\"_blank\">https://fedlex.data.admin.ch/filestore/fedlex.data.admin.ch/eli/cc/1999/404/20210101/de/pdf-a/fedlex-data-admin-ch-eli-cc-1999-404-20210101-de-pdf-a-2.pdf</a></td>\n    </tr>\n  </tbody>\n</table>"
          },
          "metadata": {}
        }
      ]
    },
    {
      "cell_type": "code",
      "source": "",
      "metadata": {},
      "execution_count": null,
      "outputs": []
    }
  ]
}