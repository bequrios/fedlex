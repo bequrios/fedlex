{
  "metadata": {
    "language_info": {
      "codemirror_mode": {
        "name": "python",
        "version": 3
      },
      "file_extension": ".py",
      "mimetype": "text/x-python",
      "name": "python",
      "nbconvert_exporter": "python",
      "pygments_lexer": "ipython3",
      "version": "3.8"
    },
    "kernelspec": {
      "name": "python",
      "display_name": "Python (Pyodide)",
      "language": "python"
    }
  },
  "nbformat_minor": 4,
  "nbformat": 4,
  "cells": [
    {
      "cell_type": "code",
      "source": "import json\nimport pandas as pd\nfrom pyodide.ffi import to_js\nfrom IPython.display import JSON, HTML\nfrom js import Object, fetch\nfrom io import StringIO",
      "metadata": {
        "trusted": true
      },
      "execution_count": 2,
      "outputs": []
    },
    {
      "cell_type": "code",
      "source": "# Resultat als JSON",
      "metadata": {
        "trusted": true
      },
      "execution_count": 3,
      "outputs": []
    },
    {
      "cell_type": "code",
      "source": "async def query_json(query_string, store = \"L\"):\n    \n    # the three Swiss triplestores\n    if store == \"F\":\n        address = 'https://fedlex.data.admin.ch/sparqlendpoint'\n    elif store == \"G\":\n        address = 'https://geo.ld.admin.ch/query'\n    else:\n        address = 'https://ld.admin.ch/query'\n    \n    try:\n        resp = await fetch(address,\n          method=\"POST\",\n          body=\"query=\" + query_string,\n          credentials=\"same-origin\",\n          headers=Object.fromEntries(to_js({\"Content-Type\": \"application/x-www-form-urlencoded; charset=UTF-8\", \"Accept\": \"application/sparql-results+json\" })),\n        )\n    except Exception:\n        raise Abort()\n    \n    if resp.ok:\n    \n        res = await resp.text()\n\n        try:\n            data_json = json.loads(res)\n        except:\n            print(res)\n\n        df = pd.json_normalize(data_json[\"results\"][\"bindings\"], sep=\"_\")\n\n        return df\n    else:\n        print(resp.status)\n",
      "metadata": {
        "trusted": true
      },
      "execution_count": 4,
      "outputs": []
    },
    {
      "cell_type": "code",
      "source": "df = await query_json(\"SELECT * WHERE {?s ?p ?o.} LIMIT 10\", \"L\")\ndf = HTML(df.to_html(render_links=True, escape=False))\ndisplay(df)",
      "metadata": {
        "trusted": true
      },
      "execution_count": 5,
      "outputs": [
        {
          "output_type": "display_data",
          "data": {
            "text/plain": "<IPython.core.display.HTML object>",
            "text/html": "<table border=\"1\" class=\"dataframe\">\n  <thead>\n    <tr style=\"text-align: right;\">\n      <th></th>\n      <th>p_type</th>\n      <th>p_value</th>\n      <th>s_type</th>\n      <th>s_value</th>\n      <th>o_type</th>\n      <th>o_value</th>\n    </tr>\n  </thead>\n  <tbody>\n    <tr>\n      <th>0</th>\n      <td>uri</td>\n      <td><a href=\"https://gont.ch/canton\" target=\"_blank\">https://gont.ch/canton</a></td>\n      <td>uri</td>\n      <td><a href=\"https://lod.opentransportdata.swiss/didok/8501607\" target=\"_blank\">https://lod.opentransportdata.swiss/didok/8501607</a></td>\n      <td>uri</td>\n      <td><a href=\"http://classifications.data.admin.ch/canton/\" target=\"_blank\">http://classifications.data.admin.ch/canton/</a></td>\n    </tr>\n    <tr>\n      <th>1</th>\n      <td>uri</td>\n      <td><a href=\"https://gont.ch/canton\" target=\"_blank\">https://gont.ch/canton</a></td>\n      <td>uri</td>\n      <td><a href=\"https://lod.opentransportdata.swiss/didok/8501950\" target=\"_blank\">https://lod.opentransportdata.swiss/didok/8501950</a></td>\n      <td>uri</td>\n      <td><a href=\"http://classifications.data.admin.ch/canton/\" target=\"_blank\">http://classifications.data.admin.ch/canton/</a></td>\n    </tr>\n    <tr>\n      <th>2</th>\n      <td>uri</td>\n      <td><a href=\"https://gont.ch/canton\" target=\"_blank\">https://gont.ch/canton</a></td>\n      <td>uri</td>\n      <td><a href=\"https://lod.opentransportdata.swiss/didok/8501611\" target=\"_blank\">https://lod.opentransportdata.swiss/didok/8501611</a></td>\n      <td>uri</td>\n      <td><a href=\"http://classifications.data.admin.ch/canton/\" target=\"_blank\">http://classifications.data.admin.ch/canton/</a></td>\n    </tr>\n    <tr>\n      <th>3</th>\n      <td>uri</td>\n      <td><a href=\"https://gont.ch/canton\" target=\"_blank\">https://gont.ch/canton</a></td>\n      <td>uri</td>\n      <td><a href=\"https://lod.opentransportdata.swiss/didok/8519449\" target=\"_blank\">https://lod.opentransportdata.swiss/didok/8519449</a></td>\n      <td>uri</td>\n      <td><a href=\"http://classifications.data.admin.ch/canton/\" target=\"_blank\">http://classifications.data.admin.ch/canton/</a></td>\n    </tr>\n    <tr>\n      <th>4</th>\n      <td>uri</td>\n      <td><a href=\"https://gont.ch/canton\" target=\"_blank\">https://gont.ch/canton</a></td>\n      <td>uri</td>\n      <td><a href=\"https://lod.opentransportdata.swiss/didok/8505592\" target=\"_blank\">https://lod.opentransportdata.swiss/didok/8505592</a></td>\n      <td>uri</td>\n      <td><a href=\"http://classifications.data.admin.ch/canton/\" target=\"_blank\">http://classifications.data.admin.ch/canton/</a></td>\n    </tr>\n    <tr>\n      <th>5</th>\n      <td>uri</td>\n      <td><a href=\"https://gont.ch/canton\" target=\"_blank\">https://gont.ch/canton</a></td>\n      <td>uri</td>\n      <td><a href=\"https://lod.opentransportdata.swiss/didok/8505581\" target=\"_blank\">https://lod.opentransportdata.swiss/didok/8505581</a></td>\n      <td>uri</td>\n      <td><a href=\"http://classifications.data.admin.ch/canton/\" target=\"_blank\">http://classifications.data.admin.ch/canton/</a></td>\n    </tr>\n    <tr>\n      <th>6</th>\n      <td>uri</td>\n      <td><a href=\"https://gont.ch/canton\" target=\"_blank\">https://gont.ch/canton</a></td>\n      <td>uri</td>\n      <td><a href=\"https://lod.opentransportdata.swiss/didok/8505594\" target=\"_blank\">https://lod.opentransportdata.swiss/didok/8505594</a></td>\n      <td>uri</td>\n      <td><a href=\"http://classifications.data.admin.ch/canton/\" target=\"_blank\">http://classifications.data.admin.ch/canton/</a></td>\n    </tr>\n    <tr>\n      <th>7</th>\n      <td>uri</td>\n      <td><a href=\"https://gont.ch/canton\" target=\"_blank\">https://gont.ch/canton</a></td>\n      <td>uri</td>\n      <td><a href=\"https://lod.opentransportdata.swiss/didok/8505578\" target=\"_blank\">https://lod.opentransportdata.swiss/didok/8505578</a></td>\n      <td>uri</td>\n      <td><a href=\"http://classifications.data.admin.ch/canton/\" target=\"_blank\">http://classifications.data.admin.ch/canton/</a></td>\n    </tr>\n    <tr>\n      <th>8</th>\n      <td>uri</td>\n      <td><a href=\"https://gont.ch/canton\" target=\"_blank\">https://gont.ch/canton</a></td>\n      <td>uri</td>\n      <td><a href=\"https://lod.opentransportdata.swiss/didok/8505584\" target=\"_blank\">https://lod.opentransportdata.swiss/didok/8505584</a></td>\n      <td>uri</td>\n      <td><a href=\"http://classifications.data.admin.ch/canton/\" target=\"_blank\">http://classifications.data.admin.ch/canton/</a></td>\n    </tr>\n    <tr>\n      <th>9</th>\n      <td>uri</td>\n      <td><a href=\"https://gont.ch/canton\" target=\"_blank\">https://gont.ch/canton</a></td>\n      <td>uri</td>\n      <td><a href=\"https://lod.opentransportdata.swiss/didok/8518155\" target=\"_blank\">https://lod.opentransportdata.swiss/didok/8518155</a></td>\n      <td>uri</td>\n      <td><a href=\"http://classifications.data.admin.ch/canton/\" target=\"_blank\">http://classifications.data.admin.ch/canton/</a></td>\n    </tr>\n  </tbody>\n</table>"
          },
          "metadata": {}
        }
      ]
    },
    {
      "cell_type": "markdown",
      "source": "# Resultat als CSV",
      "metadata": {}
    },
    {
      "cell_type": "code",
      "source": "async def query_csv(query_string, store = \"L\"):\n    \n    # the three Swiss triplestores\n    if store == \"F\":\n        address = 'https://fedlex.data.admin.ch/sparqlendpoint'\n    elif store == \"G\":\n        address = 'https://geo.ld.admin.ch/query'\n    else:\n        address = 'https://ld.admin.ch/query'\n    \n    try:\n        resp = await fetch(address,\n          method=\"POST\",\n          body=\"query=\" + query_string,\n          credentials=\"same-origin\",\n          headers=Object.fromEntries(to_js({\"Content-Type\": \"application/x-www-form-urlencoded; charset=UTF-8\", \"Accept\": \"text/csv\" })),\n        )\n    except Exception:\n        raise Abort()\n    \n    if resp.ok:\n    \n        res = await resp.text()\n        print(res)\n        \n        if '{\"message\":' in res:\n            raise RuntimeError(res)\n        else:\n\n            df = pd.read_csv(StringIO(res))\n\n            return df\n    else:\n        print(resp.status)\n",
      "metadata": {
        "trusted": true
      },
      "execution_count": 6,
      "outputs": []
    },
    {
      "cell_type": "code",
      "source": "df = await query_csv(\"\"\"\n\nPREFIX schema: <http://schema.org/>\nPREFIX rdf: <http://www.w3.org/1999/02/22-rdf-syntax-ns#>\nPREFIX rdfs: <http://www.w3.org/2000/01/rdf-schema#>\nSELECT * WHERE {\n\t?DefinedTermSet a schema:DefinedTermSet.\n  \tFILTER(regex(str(?DefinedTermSet), \"admin.ch\" ) )\n}\n\n\"\"\"\n, \"L\")\ndf = HTML(df.to_html(render_links=True, escape=False))\ndisplay(df)",
      "metadata": {
        "trusted": true
      },
      "execution_count": 7,
      "outputs": [
        {
          "name": "stdout",
          "text": "DefinedTermSet\nhttps://culture.ld.admin.ch/isil\nhttps://register.ld.admin.ch/opendataswiss/category\nhttps://register.ld.admin.ch/foen/theme\nhttps://ld.admin.ch/ech/97/legalforms\nhttps://ld.admin.ch/dimension/zefix\nhttps://ld.admin.ch/vocabulary/CreativeWorkStatus\nhttps://ld.admin.ch/vocabulary/TermsOfUse\nhttps://ld.admin.ch/department\nhttps://ld.admin.ch/office\nhttps://ld.admin.ch/dimension/department\nhttps://ld.admin.ch/dimension/office\nhttps://ld.admin.ch/dimension/canton\nhttps://ld.admin.ch/dimension/municipality\nhttps://ld.admin.ch/cube/dimension/el01\nhttps://register.ld.admin.ch/opendataswiss/org\nhttps://ld.admin.ch/dimension/bgdi/biota/protectionforestregions\nhttps://ld.admin.ch/dimension/bgdi/biota/economicregions\nhttps://ld.admin.ch/dimension/bgdi/biota/productionregions\nhttps://ld.admin.ch/dimension/country\nhttps://agriculture.ld.admin.ch/foen/animal-pest/animal-group\nhttps://ld.admin.ch/dimension/bgdi/energy/hydropowerplants\nhttps://ld.admin.ch/dimension/bgdi/inlandwaters/bathingwater\nhttps://ld.admin.ch/cube/dimension/cofog\nhttps://register.ld.admin.ch/curia/businesstype\nhttps://register.ld.admin.ch/curia/resolution\nhttps://ld.admin.ch/dimension/electricity-provider\nhttps://politics.ld.admin.ch/popular-vote/types\nhttps://politics.ld.admin.ch/popular-vote/vote-procedures\nhttps://politics.ld.admin.ch/popular-votes\n\n",
          "output_type": "stream"
        },
        {
          "output_type": "display_data",
          "data": {
            "text/plain": "<IPython.core.display.HTML object>",
            "text/html": "<table border=\"1\" class=\"dataframe\">\n  <thead>\n    <tr style=\"text-align: right;\">\n      <th></th>\n      <th>DefinedTermSet</th>\n    </tr>\n  </thead>\n  <tbody>\n    <tr>\n      <th>0</th>\n      <td><a href=\"https://culture.ld.admin.ch/isil\" target=\"_blank\">https://culture.ld.admin.ch/isil</a></td>\n    </tr>\n    <tr>\n      <th>1</th>\n      <td><a href=\"https://register.ld.admin.ch/opendataswiss/category\" target=\"_blank\">https://register.ld.admin.ch/opendataswiss/category</a></td>\n    </tr>\n    <tr>\n      <th>2</th>\n      <td><a href=\"https://register.ld.admin.ch/foen/theme\" target=\"_blank\">https://register.ld.admin.ch/foen/theme</a></td>\n    </tr>\n    <tr>\n      <th>3</th>\n      <td><a href=\"https://ld.admin.ch/ech/97/legalforms\" target=\"_blank\">https://ld.admin.ch/ech/97/legalforms</a></td>\n    </tr>\n    <tr>\n      <th>4</th>\n      <td><a href=\"https://ld.admin.ch/dimension/zefix\" target=\"_blank\">https://ld.admin.ch/dimension/zefix</a></td>\n    </tr>\n    <tr>\n      <th>5</th>\n      <td><a href=\"https://ld.admin.ch/vocabulary/CreativeWorkStatus\" target=\"_blank\">https://ld.admin.ch/vocabulary/CreativeWorkStatus</a></td>\n    </tr>\n    <tr>\n      <th>6</th>\n      <td><a href=\"https://ld.admin.ch/vocabulary/TermsOfUse\" target=\"_blank\">https://ld.admin.ch/vocabulary/TermsOfUse</a></td>\n    </tr>\n    <tr>\n      <th>7</th>\n      <td><a href=\"https://ld.admin.ch/department\" target=\"_blank\">https://ld.admin.ch/department</a></td>\n    </tr>\n    <tr>\n      <th>8</th>\n      <td><a href=\"https://ld.admin.ch/office\" target=\"_blank\">https://ld.admin.ch/office</a></td>\n    </tr>\n    <tr>\n      <th>9</th>\n      <td><a href=\"https://ld.admin.ch/dimension/department\" target=\"_blank\">https://ld.admin.ch/dimension/department</a></td>\n    </tr>\n    <tr>\n      <th>10</th>\n      <td><a href=\"https://ld.admin.ch/dimension/office\" target=\"_blank\">https://ld.admin.ch/dimension/office</a></td>\n    </tr>\n    <tr>\n      <th>11</th>\n      <td><a href=\"https://ld.admin.ch/dimension/canton\" target=\"_blank\">https://ld.admin.ch/dimension/canton</a></td>\n    </tr>\n    <tr>\n      <th>12</th>\n      <td><a href=\"https://ld.admin.ch/dimension/municipality\" target=\"_blank\">https://ld.admin.ch/dimension/municipality</a></td>\n    </tr>\n    <tr>\n      <th>13</th>\n      <td><a href=\"https://ld.admin.ch/cube/dimension/el01\" target=\"_blank\">https://ld.admin.ch/cube/dimension/el01</a></td>\n    </tr>\n    <tr>\n      <th>14</th>\n      <td><a href=\"https://register.ld.admin.ch/opendataswiss/org\" target=\"_blank\">https://register.ld.admin.ch/opendataswiss/org</a></td>\n    </tr>\n    <tr>\n      <th>15</th>\n      <td><a href=\"https://ld.admin.ch/dimension/bgdi/biota/protectionforestregions\" target=\"_blank\">https://ld.admin.ch/dimension/bgdi/biota/protectionforestregions</a></td>\n    </tr>\n    <tr>\n      <th>16</th>\n      <td><a href=\"https://ld.admin.ch/dimension/bgdi/biota/economicregions\" target=\"_blank\">https://ld.admin.ch/dimension/bgdi/biota/economicregions</a></td>\n    </tr>\n    <tr>\n      <th>17</th>\n      <td><a href=\"https://ld.admin.ch/dimension/bgdi/biota/productionregions\" target=\"_blank\">https://ld.admin.ch/dimension/bgdi/biota/productionregions</a></td>\n    </tr>\n    <tr>\n      <th>18</th>\n      <td><a href=\"https://ld.admin.ch/dimension/country\" target=\"_blank\">https://ld.admin.ch/dimension/country</a></td>\n    </tr>\n    <tr>\n      <th>19</th>\n      <td><a href=\"https://agriculture.ld.admin.ch/foen/animal-pest/animal-group\" target=\"_blank\">https://agriculture.ld.admin.ch/foen/animal-pest/animal-group</a></td>\n    </tr>\n    <tr>\n      <th>20</th>\n      <td><a href=\"https://ld.admin.ch/dimension/bgdi/energy/hydropowerplants\" target=\"_blank\">https://ld.admin.ch/dimension/bgdi/energy/hydropowerplants</a></td>\n    </tr>\n    <tr>\n      <th>21</th>\n      <td><a href=\"https://ld.admin.ch/dimension/bgdi/inlandwaters/bathingwater\" target=\"_blank\">https://ld.admin.ch/dimension/bgdi/inlandwaters/bathingwater</a></td>\n    </tr>\n    <tr>\n      <th>22</th>\n      <td><a href=\"https://ld.admin.ch/cube/dimension/cofog\" target=\"_blank\">https://ld.admin.ch/cube/dimension/cofog</a></td>\n    </tr>\n    <tr>\n      <th>23</th>\n      <td><a href=\"https://register.ld.admin.ch/curia/businesstype\" target=\"_blank\">https://register.ld.admin.ch/curia/businesstype</a></td>\n    </tr>\n    <tr>\n      <th>24</th>\n      <td><a href=\"https://register.ld.admin.ch/curia/resolution\" target=\"_blank\">https://register.ld.admin.ch/curia/resolution</a></td>\n    </tr>\n    <tr>\n      <th>25</th>\n      <td><a href=\"https://ld.admin.ch/dimension/electricity-provider\" target=\"_blank\">https://ld.admin.ch/dimension/electricity-provider</a></td>\n    </tr>\n    <tr>\n      <th>26</th>\n      <td><a href=\"https://politics.ld.admin.ch/popular-vote/types\" target=\"_blank\">https://politics.ld.admin.ch/popular-vote/types</a></td>\n    </tr>\n    <tr>\n      <th>27</th>\n      <td><a href=\"https://politics.ld.admin.ch/popular-vote/vote-procedures\" target=\"_blank\">https://politics.ld.admin.ch/popular-vote/vote-procedures</a></td>\n    </tr>\n    <tr>\n      <th>28</th>\n      <td><a href=\"https://politics.ld.admin.ch/popular-votes\" target=\"_blank\">https://politics.ld.admin.ch/popular-votes</a></td>\n    </tr>\n  </tbody>\n</table>"
          },
          "metadata": {}
        }
      ]
    },
    {
      "cell_type": "code",
      "source": "",
      "metadata": {},
      "execution_count": null,
      "outputs": []
    }
  ]
}