{
  "metadata": {
    "language_info": {
      "codemirror_mode": {
        "name": "python",
        "version": 3
      },
      "file_extension": ".py",
      "mimetype": "text/x-python",
      "name": "python",
      "nbconvert_exporter": "python",
      "pygments_lexer": "ipython3",
      "version": "3.8"
    },
    "kernelspec": {
      "name": "python",
      "display_name": "Python (Pyodide)",
      "language": "python"
    }
  },
  "nbformat_minor": 4,
  "nbformat": 4,
  "cells": [
    {
      "cell_type": "code",
      "source": "import json\nimport pandas as pd\nfrom pyodide.ffi import to_js\nfrom IPython.display import JSON\nfrom js import Object, fetch",
      "metadata": {
        "trusted": true
      },
      "execution_count": null,
      "outputs": []
    },
    {
      "cell_type": "code",
      "source": "async def query(query_string):\n    \n    resp = await fetch('https://fedlex.data.admin.ch/sparqlendpoint',\n      method=\"POST\",\n      body=\"query=\" + query_string,\n      credentials=\"same-origin\",\n      headers=Object.fromEntries(to_js({\"Content-Type\": \"application/x-www-form-urlencoded; charset=UTF-8\", \"Accept\": \"application/json\" })),\n    )\n    res = await resp.text()\n\n    data_json = json.loads(res)\n\n    df = pd.json_normalize(data_json[\"results\"][\"bindings\"], sep=\"_\")\n    \n    return df",
      "metadata": {
        "trusted": true
      },
      "execution_count": null,
      "outputs": []
    },
    {
      "cell_type": "code",
      "source": "df = await query(\"SELECT * WHERE {?s ?p ?o.} LIMIT 10\")\ndisplay(df)",
      "metadata": {
        "trusted": true
      },
      "execution_count": null,
      "outputs": []
    }
  ]
}