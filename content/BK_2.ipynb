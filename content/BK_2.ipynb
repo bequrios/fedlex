{
 "cells": [
  {
   "cell_type": "code",
   "execution_count": null,
   "metadata": {},
   "outputs": [],
   "source": [
    "import json\n",
    "from pyodide.ffi import to_js\n",
    "from IPython.display import JSON\n",
    "from js import Object, fetch\n",
    "\n",
    "resp = await fetch('https://fedlex.data.admin.ch/sparqlendpoint',\n",
    "  method=\"POST\",\n",
    "  body=\"query=SELECT * WHERE {?s ?p ?o.} LIMIT 10\",\n",
    "  credentials=\"same-origin\",\n",
    "  headers=Object.fromEntries(to_js({\"Content-Type\": \"application/x-www-form-urlencoded; charset=UTF-8\", \"Accept\": \"application/json\" })),\n",
    ")\n",
    "res = await resp.text()\n",
    "\n",
    "data_json = json.loads(res)\n",
    "\n",
    "df = pd.json_normalize(data_json[\"results\"][\"bindings\"], sep=\"_\")\n",
    "\n",
    "display(df)"
   ]
  }
 ],
 "metadata": {
  "language_info": {
   "name": "python"
  },
  "orig_nbformat": 4
 },
 "nbformat": 4,
 "nbformat_minor": 2
}
