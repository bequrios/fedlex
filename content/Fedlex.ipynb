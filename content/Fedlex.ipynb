{
  "metadata": {
    "toc-autonumbering": true,
    "language_info": {
      "codemirror_mode": {
        "name": "python",
        "version": 3
      },
      "file_extension": ".py",
      "mimetype": "text/x-python",
      "name": "python",
      "nbconvert_exporter": "python",
      "pygments_lexer": "ipython3",
      "version": "3.8"
    },
    "kernelspec": {
      "name": "python",
      "display_name": "Python (Pyodide)",
      "language": "python"
    }
  },
  "nbformat_minor": 4,
  "nbformat": 4,
  "cells": [
    {
      "cell_type": "markdown",
      "source": "<br>\n\n<img src=\"https://fedlex.data.admin.ch/assets/logo.png\" style=\"width:25%; float:right\">\n\n# Fedlex Tutorial\n\nThis page serves as a introductory tutorial to the [Fedlex Linked Data ecosystem](https://fedlex.data.admin.ch).\n\n",
      "metadata": {
        "trusted": true
      }
    },
    {
      "cell_type": "markdown",
      "source": "# Introduction\n\nThe webpage you are currently viewing is a so called **interactive JupyterLite notebook**. In this notebook, you can change interactively the content of the single cells and execute these cells directly seeing the result of your changes immediately. The cells contain either [Markdown](https://en.wikipedia.org/wiki/Markdown) content (like this cell) or executable Python source code.\n\nJupyterLite stems from JupyterLab with the advantage of being completely browser based without any backend infrastructure. This means that the execution of the cells could take some time during first execution. Subsequent executions will be much faster because of stored data in your browser cache.\n\nIf you are unfamiliar with the handling of Jupyter notebooks, here are two useful resources:\n\n- [The JupyterLab Interface](https://jupyterlab.readthedocs.io/en/stable/user/interface.html)\n- [The Jupyter Notebook](https://jupyterlab.readthedocs.io/en/stable/user/notebook.html)",
      "metadata": {
        "jp-MarkdownHeadingCollapsed": true,
        "tags": [],
        "trusted": true
      }
    },
    {
      "cell_type": "markdown",
      "source": "# Preliminaries\n\nIn this part some preliminaries for querying LINDAS with SPARQL are introduced. If you are only interested in the actual LINDAS tutorial, you can skip the whole section and start [here](#Actual-Tutorial).\n\n## Install and Import the Necessary Modules\n\nQuerying a SPARQL endpoint is basically making a POST request to the corresponding endpoint URL. As JupyterLite at the moment has no support for Python's `requests` modul, the JavaScript fetch API is used (with some tricks). To make this happen, the following modules have to be importet: ",
      "metadata": {
        "trusted": true
      }
    },
    {
      "cell_type": "code",
      "source": "%pip install -q folium",
      "metadata": {
        "trusted": true
      },
      "execution_count": 83,
      "outputs": []
    },
    {
      "cell_type": "code",
      "source": "import json\nimport pandas as pd\nfrom pyodide.ffi import to_js\nfrom IPython.display import JSON, HTML\nfrom js import Object, fetch\nfrom io import StringIO",
      "metadata": {
        "trusted": true
      },
      "execution_count": 84,
      "outputs": []
    },
    {
      "cell_type": "markdown",
      "source": "## Define Main Query Function\n\nAs the JavaScript fetch API is asynchronous, the corresponding Python function `query` has to be declared as `async`. This function allows to query the 3 Swiss governmental triple stores.",
      "metadata": {
        "trusted": true
      }
    },
    {
      "cell_type": "code",
      "source": "async def query(query_string, store = \"L\"):\n    \n    # three Swiss triplestores\n    if store == \"F\":\n        address = 'https://fedlex.data.admin.ch/sparqlendpoint'\n    elif store == \"G\":\n        address = 'https://geo.ld.admin.ch/query'\n    else:\n        address = 'https://ld.admin.ch/query'\n    \n    # try the Post request with help of JS fetch\n    # the creation of the request header is a little bit complicated because it needs to be a \n    # JavaScript JSON that is made within a Python source code\n    try:\n        resp = await fetch(address,\n          method=\"POST\",\n          body=\"query=\" + query_string,\n          credentials=\"same-origin\",\n          headers=Object.fromEntries(to_js({\"Content-Type\": \"application/x-www-form-urlencoded; charset=UTF-8\", \n                                            \"Accept\": \"text/csv\" })),\n        )\n    except:\n        raise RuntimeError(\"fetch failed\")\n    \n    \n    if resp.ok:\n        res = await resp.text()\n        # ld.admin.ch throws errors starting with '{\"message\":'\n        if '{\"message\":' in res:\n            error = json.loads(res)\n            raise RuntimeError(\"SPARQL query malformed: \" + error[\"message\"])\n        # geo.ld.admin.ch throws errors starting with 'Parse error:'\n        elif 'Parse error:' in res:\n            raise RuntimeError(\"SPARQL query malformed: \" + res)\n        else:\n            # if everything works out, create a pandas dataframe from the csv result\n            df = pd.read_csv(StringIO(res))\n            return df\n    else:\n        # fedlex.data.admin.ch throws error with response status 400\n        if resp.status == 400:\n            raise RuntimeError(\"Response status 400: Possible malformed SPARQL query. No syntactic advice available.\")\n        else:\n            raise RuntimeError(\"Response status \" + resp.status)",
      "metadata": {
        "trusted": true
      },
      "execution_count": 85,
      "outputs": []
    },
    {
      "cell_type": "markdown",
      "source": "If you are interested in the details of using the JavaScript fetch API within JupyterLite, please consult:\n\n- https://pyodide.org/en/stable/usage/faq.html#how-can-i-use-fetch-with-optional-arguments-from-python\n- https://github.com/jupyterlite/jupyterlite/discussions/412\n- https://lwebapp.com/en/post/pyodide-fetch",
      "metadata": {
        "trusted": true
      }
    },
    {
      "cell_type": "markdown",
      "source": "## Define Display Function\n\nDisplays pandas dataframe resulting from the SPARQL query as HTML with clickable links.",
      "metadata": {
        "trusted": true
      }
    },
    {
      "cell_type": "code",
      "source": "def display_result(df):\n    df = HTML(df.to_html(render_links=True, escape=False))\n    display(df)",
      "metadata": {
        "trusted": true
      },
      "execution_count": 86,
      "outputs": []
    },
    {
      "cell_type": "markdown",
      "source": "# Tutorial",
      "metadata": {
        "trusted": true
      }
    },
    {
      "cell_type": "markdown",
      "source": "## Vokabular\n\n### ConceptScheme\n\nEin guter Weg um mit den Fedlex Daten vertraut zu werden ist, sich das verwendete Vokabular genauer anzuschauen. Das Vokabular ist mit Hilfe von [skos:ConceptScheme](http://www.w3.org/2004/02/skos/core#ConceptScheme) zusammengefasst und tritt in Fedlex typischerweise auf der Objekt-Position innerhalb eines Triples auf. Es kann also mit Hilfe von SPARQL nach solchen *ConceptSchemes* gesucht werden:",
      "metadata": {}
    },
    {
      "cell_type": "code",
      "source": "df = await query(\"\"\"\n\nPREFIX skos: <http://www.w3.org/2004/02/skos/core#>\nPREFIX purl: <http://purl.org/dc/terms/>\n\nSELECT DISTINCT * WHERE {\n    ?conceptScheme a skos:ConceptScheme;\n        purl:title ?title.\nFILTER(lang(?title) = \"de\")\n} \n\n\"\"\", \"F\")\n\ndisplay_result(df)",
      "metadata": {
        "tags": [],
        "trusted": true
      },
      "execution_count": 87,
      "outputs": [
        {
          "output_type": "display_data",
          "data": {
            "text/plain": "<IPython.core.display.HTML object>",
            "text/html": "<table border=\"1\" class=\"dataframe\">\n  <thead>\n    <tr style=\"text-align: right;\">\n      <th></th>\n      <th>conceptScheme</th>\n      <th>title</th>\n    </tr>\n  </thead>\n  <tbody>\n    <tr>\n      <th>0</th>\n      <td><a href=\"https://fedlex.data.admin.ch/vocabulary/consultation-stage\" target=\"_blank\">https://fedlex.data.admin.ch/vocabulary/consultation-stage</a></td>\n      <td>Arbeitsschritte eines Vernehmlassungsverfahrens</td>\n    </tr>\n    <tr>\n      <th>1</th>\n      <td><a href=\"https://fedlex.data.admin.ch/vocabulary/consultation-status\" target=\"_blank\">https://fedlex.data.admin.ch/vocabulary/consultation-status</a></td>\n      <td>Stand des Vernehmlassungsverfahrens</td>\n    </tr>\n    <tr>\n      <th>2</th>\n      <td><a href=\"https://fedlex.data.admin.ch/vocabulary/country\" target=\"_blank\">https://fedlex.data.admin.ch/vocabulary/country</a></td>\n      <td>Staaten</td>\n    </tr>\n    <tr>\n      <th>3</th>\n      <td><a href=\"https://fedlex.data.admin.ch/vocabulary/eutext-subject-theme\" target=\"_blank\">https://fedlex.data.admin.ch/vocabulary/eutext-subject-theme</a></td>\n      <td>Klassifizierung der sektoriellen Abkommen mit der Europäischen Union</td>\n    </tr>\n    <tr>\n      <th>4</th>\n      <td><a href=\"https://fedlex.data.admin.ch/vocabulary/impact-type\" target=\"_blank\">https://fedlex.data.admin.ch/vocabulary/impact-type</a></td>\n      <td>Betroffenheiten</td>\n    </tr>\n    <tr>\n      <th>5</th>\n      <td><a href=\"https://fedlex.data.admin.ch/vocabulary/information-source\" target=\"_blank\">https://fedlex.data.admin.ch/vocabulary/information-source</a></td>\n      <td>Art der Datenquelle</td>\n    </tr>\n    <tr>\n      <th>6</th>\n      <td><a href=\"https://fedlex.data.admin.ch/vocabulary/instrument-type\" target=\"_blank\">https://fedlex.data.admin.ch/vocabulary/instrument-type</a></td>\n      <td>Art des Rechtsaktes</td>\n    </tr>\n    <tr>\n      <th>7</th>\n      <td><a href=\"https://fedlex.data.admin.ch/vocabulary/international-actor\" target=\"_blank\">https://fedlex.data.admin.ch/vocabulary/international-actor</a></td>\n      <td>Internationale Organisationen</td>\n    </tr>\n    <tr>\n      <th>8</th>\n      <td><a href=\"https://fedlex.data.admin.ch/vocabulary/legal-analysis-status\" target=\"_blank\">https://fedlex.data.admin.ch/vocabulary/legal-analysis-status</a></td>\n      <td>Stand der Erfassung der Betroffenheiten</td>\n    </tr>\n    <tr>\n      <th>9</th>\n      <td><a href=\"https://fedlex.data.admin.ch/vocabulary/legal-institution\" target=\"_blank\">https://fedlex.data.admin.ch/vocabulary/legal-institution</a></td>\n      <td>Organisationseinheiten</td>\n    </tr>\n    <tr>\n      <th>10</th>\n      <td><a href=\"https://fedlex.data.admin.ch/vocabulary/legal-resource-genre\" target=\"_blank\">https://fedlex.data.admin.ch/vocabulary/legal-resource-genre</a></td>\n      <td>Erlassarten</td>\n    </tr>\n    <tr>\n      <th>11</th>\n      <td><a href=\"https://fedlex.data.admin.ch/vocabulary/legal-subject-theme-de\" target=\"_blank\">https://fedlex.data.admin.ch/vocabulary/legal-subject-theme-de</a></td>\n      <td>Stichwortverzeichnis</td>\n    </tr>\n    <tr>\n      <th>12</th>\n      <td><a href=\"https://fedlex.data.admin.ch/vocabulary/legal-subject-theme-fr\" target=\"_blank\">https://fedlex.data.admin.ch/vocabulary/legal-subject-theme-fr</a></td>\n      <td>Stichwortverzeichnis</td>\n    </tr>\n    <tr>\n      <th>13</th>\n      <td><a href=\"https://fedlex.data.admin.ch/vocabulary/legal-subject-theme-it\" target=\"_blank\">https://fedlex.data.admin.ch/vocabulary/legal-subject-theme-it</a></td>\n      <td>Stichwortverzeichnis</td>\n    </tr>\n    <tr>\n      <th>14</th>\n      <td><a href=\"https://fedlex.data.admin.ch/vocabulary/legal-taxonomy\" target=\"_blank\">https://fedlex.data.admin.ch/vocabulary/legal-taxonomy</a></td>\n      <td>Sachregister</td>\n    </tr>\n    <tr>\n      <th>15</th>\n      <td><a href=\"https://fedlex.data.admin.ch/vocabulary/license\" target=\"_blank\">https://fedlex.data.admin.ch/vocabulary/license</a></td>\n      <td>Lizenzen für die Wiederverwendung der Inhalte</td>\n    </tr>\n    <tr>\n      <th>16</th>\n      <td><a href=\"https://fedlex.data.admin.ch/vocabulary/notation-type\" target=\"_blank\">https://fedlex.data.admin.ch/vocabulary/notation-type</a></td>\n      <td>Eigenschaft \"skos:notation\"</td>\n    </tr>\n    <tr>\n      <th>17</th>\n      <td><a href=\"https://fedlex.data.admin.ch/vocabulary/notification-type\" target=\"_blank\">https://fedlex.data.admin.ch/vocabulary/notification-type</a></td>\n      <td>Rechtsnatur des Vertragsakts</td>\n    </tr>\n    <tr>\n      <th>18</th>\n      <td><a href=\"https://fedlex.data.admin.ch/vocabulary/publication-completeness\" target=\"_blank\">https://fedlex.data.admin.ch/vocabulary/publication-completeness</a></td>\n      <td>Umfang der Veröffentlichung</td>\n    </tr>\n    <tr>\n      <th>19</th>\n      <td><a href=\"https://fedlex.data.admin.ch/vocabulary/publication-folder-stage\" target=\"_blank\">https://fedlex.data.admin.ch/vocabulary/publication-folder-stage</a></td>\n      <td>Stand der Publikationsdossiers</td>\n    </tr>\n    <tr>\n      <th>20</th>\n      <td><a href=\"https://fedlex.data.admin.ch/vocabulary/publication-folder-status\" target=\"_blank\">https://fedlex.data.admin.ch/vocabulary/publication-folder-status</a></td>\n      <td>Stand der Publikationsdossiers</td>\n    </tr>\n    <tr>\n      <th>21</th>\n      <td><a href=\"https://fedlex.data.admin.ch/vocabulary/publication-process-related-to-document-status\" target=\"_blank\">https://fedlex.data.admin.ch/vocabulary/publication-process-related-to-document-status</a></td>\n      <td>Stand der Dokumente im Publikationsprozess</td>\n    </tr>\n    <tr>\n      <th>22</th>\n      <td><a href=\"https://fedlex.data.admin.ch/vocabulary/publication-process-related-to-expression-status\" target=\"_blank\">https://fedlex.data.admin.ch/vocabulary/publication-process-related-to-expression-status</a></td>\n      <td>Stand der \"Expression\" im Publikationsprozess</td>\n    </tr>\n    <tr>\n      <th>23</th>\n      <td><a href=\"https://fedlex.data.admin.ch/vocabulary/publication-process-related-to-manifestation-status\" target=\"_blank\">https://fedlex.data.admin.ch/vocabulary/publication-process-related-to-manifestation-status</a></td>\n      <td>Stand des Publikationsprozess in Bezug auf die  \"Manifestation\"</td>\n    </tr>\n    <tr>\n      <th>24</th>\n      <td><a href=\"https://fedlex.data.admin.ch/vocabulary/publication-process-status\" target=\"_blank\">https://fedlex.data.admin.ch/vocabulary/publication-process-status</a></td>\n      <td>Stand im Publikationsprozess</td>\n    </tr>\n    <tr>\n      <th>25</th>\n      <td><a href=\"https://fedlex.data.admin.ch/vocabulary/resource-family\" target=\"_blank\">https://fedlex.data.admin.ch/vocabulary/resource-family</a></td>\n      <td>Publikationsorgane</td>\n    </tr>\n    <tr>\n      <th>26</th>\n      <td><a href=\"https://fedlex.data.admin.ch/vocabulary/resource-type\" target=\"_blank\">https://fedlex.data.admin.ch/vocabulary/resource-type</a></td>\n      <td>Texttypen</td>\n    </tr>\n    <tr>\n      <th>27</th>\n      <td><a href=\"https://fedlex.data.admin.ch/vocabulary/role\" target=\"_blank\">https://fedlex.data.admin.ch/vocabulary/role</a></td>\n      <td>Rollen</td>\n    </tr>\n    <tr>\n      <th>28</th>\n      <td><a href=\"https://fedlex.data.admin.ch/vocabulary/subdivision-type\" target=\"_blank\">https://fedlex.data.admin.ch/vocabulary/subdivision-type</a></td>\n      <td>Gliederungseinheiten des Textes</td>\n    </tr>\n    <tr>\n      <th>29</th>\n      <td><a href=\"https://fedlex.data.admin.ch/vocabulary/task-result-type\" target=\"_blank\">https://fedlex.data.admin.ch/vocabulary/task-result-type</a></td>\n      <td>Bundesratsbeschluss</td>\n    </tr>\n    <tr>\n      <th>30</th>\n      <td><a href=\"https://fedlex.data.admin.ch/vocabulary/treaty-status\" target=\"_blank\">https://fedlex.data.admin.ch/vocabulary/treaty-status</a></td>\n      <td>Status der Verträge</td>\n    </tr>\n    <tr>\n      <th>31</th>\n      <td><a href=\"https://fedlex.data.admin.ch/vocabulary/treaty-subject-theme\" target=\"_blank\">https://fedlex.data.admin.ch/vocabulary/treaty-subject-theme</a></td>\n      <td>Internationales Recht - Sachgebiet</td>\n    </tr>\n    <tr>\n      <th>32</th>\n      <td><a href=\"https://fedlex.data.admin.ch/vocabulary/treaty-type\" target=\"_blank\">https://fedlex.data.admin.ch/vocabulary/treaty-type</a></td>\n      <td>Bilaterale Verträge mit der Europäischen Union</td>\n    </tr>\n    <tr>\n      <th>33</th>\n      <td><a href=\"https://fedlex.data.admin.ch/vocabulary/type-procedure\" target=\"_blank\">https://fedlex.data.admin.ch/vocabulary/type-procedure</a></td>\n      <td>Ordentliche, dringliche und ausserordentliche Veröffentlichung</td>\n    </tr>\n    <tr>\n      <th>34</th>\n      <td><a href=\"https://fedlex.data.admin.ch/vocabulary/user-format\" target=\"_blank\">https://fedlex.data.admin.ch/vocabulary/user-format</a></td>\n      <td>Publikationsformate</td>\n    </tr>\n    <tr>\n      <th>35</th>\n      <td><a href=\"http://publications.europa.eu/resource/authority/language\" target=\"_blank\">http://publications.europa.eu/resource/authority/language</a></td>\n      <td>Sprachen</td>\n    </tr>\n    <tr>\n      <th>36</th>\n      <td><a href=\"http://data.europa.eu/eli/ontology#LegalValueTable\" target=\"_blank\">http://data.europa.eu/eli/ontology#LegalValueTable</a></td>\n      <td>Rechtliche Massgeblichkeit des Publikationsfornats</td>\n    </tr>\n  </tbody>\n</table>"
          },
          "metadata": {}
        }
      ]
    },
    {
      "cell_type": "markdown",
      "source": "### Inhalt eines einzelnen ConceptSchemes\n\nWenn die Inhalte eines einzelnen ConecptSchemes abgefragt werden soll, kann folgende SPARQL Query helfen:",
      "metadata": {}
    },
    {
      "cell_type": "code",
      "source": "df = await query(\"\"\"\n\nPREFIX skos: <http://www.w3.org/2004/02/skos/core#>\nPREFIX purl: <http://purl.org/dc/terms/>\n\nSELECT DISTINCT * WHERE {\n    ?concept skos:inScheme <https://fedlex.data.admin.ch/vocabulary/treaty-status>;\n        skos:prefLabel ?label.\n    FILTER(lang(?label) = \"de\")\n} \n\n\"\"\", \"F\")\n\ndisplay_result(df)",
      "metadata": {
        "trusted": true
      },
      "execution_count": 88,
      "outputs": [
        {
          "output_type": "display_data",
          "data": {
            "text/plain": "<IPython.core.display.HTML object>",
            "text/html": "<table border=\"1\" class=\"dataframe\">\n  <thead>\n    <tr style=\"text-align: right;\">\n      <th></th>\n      <th>concept</th>\n      <th>label</th>\n    </tr>\n  </thead>\n  <tbody>\n    <tr>\n      <th>0</th>\n      <td><a href=\"https://fedlex.data.admin.ch/vocabulary/treaty-status/1\" target=\"_blank\">https://fedlex.data.admin.ch/vocabulary/treaty-status/1</a></td>\n      <td>abgeschlossen (drafts)</td>\n    </tr>\n    <tr>\n      <th>1</th>\n      <td><a href=\"https://fedlex.data.admin.ch/vocabulary/treaty-status/2\" target=\"_blank\">https://fedlex.data.admin.ch/vocabulary/treaty-status/2</a></td>\n      <td>in Kraft</td>\n    </tr>\n    <tr>\n      <th>2</th>\n      <td><a href=\"https://fedlex.data.admin.ch/vocabulary/treaty-status/3\" target=\"_blank\">https://fedlex.data.admin.ch/vocabulary/treaty-status/3</a></td>\n      <td>unterzeichnet</td>\n    </tr>\n    <tr>\n      <th>3</th>\n      <td><a href=\"https://fedlex.data.admin.ch/vocabulary/treaty-status/4\" target=\"_blank\">https://fedlex.data.admin.ch/vocabulary/treaty-status/4</a></td>\n      <td>provisorische Anwendung</td>\n    </tr>\n    <tr>\n      <th>4</th>\n      <td><a href=\"https://fedlex.data.admin.ch/vocabulary/treaty-status/5\" target=\"_blank\">https://fedlex.data.admin.ch/vocabulary/treaty-status/5</a></td>\n      <td>abgelaufen</td>\n    </tr>\n    <tr>\n      <th>5</th>\n      <td><a href=\"https://fedlex.data.admin.ch/vocabulary/treaty-status/6\" target=\"_blank\">https://fedlex.data.admin.ch/vocabulary/treaty-status/6</a></td>\n      <td>ratifiziert</td>\n    </tr>\n  </tbody>\n</table>"
          },
          "metadata": {}
        }
      ]
    },
    {
      "cell_type": "markdown",
      "source": "### Dereferenziertes Vokabular\n\nDas gesamte Vokabular kann auch über https://fedlex.data.admin.ch/vocabularies direkt als Webpage abgerufen werden. Diese Website ist hierarchisch aufgebaut und wenn auf https://fedlex.data.admin.ch/vocabulary/treaty-status geklickt wird, erhält man alle Infos zu diesem spezifischen skos:ConceptScheme als Website. Analog gilt dies auch für die einzelnen skos:Concept (bspw. https://fedlex.data.admin.ch/vocabulary/treaty-status/1).",
      "metadata": {}
    },
    {
      "cell_type": "markdown",
      "source": "## Aufbau der Daten\n\n### URI Schema\n\nDie eigentlichen Daten (nämlich Gesetzestexte) sind nach einem Schema mit URI versehen. Dieses [URI Schema]https://fedlex.data.admin.ch/de-CH/home/convention richtet sich nach dem System der [European Legislation Identifier (ELI)](https://eur-lex.europa.eu/eli-register/about.html).\n\nGrundsätzlich beginnen alle Daten mit folgender URI: http://fedlex.data.admin.ch/eli\n\n### Sammlungen\n\n* Bundesblatt ([Erläuterungen](https://www.fedlex.admin.ch/de/fga/explanation-fg))\n* Amtliche Sammlung ([Erläuterungen](https://www.fedlex.admin.ch/de/oc/explanations-oc))\n* Systematische Sammlung ([Erläuterungen](https://www.fedlex.admin.ch/de/cc/explanations-cc))",
      "metadata": {}
    },
    {
      "cell_type": "markdown",
      "source": "### Bundesblatt\n\nFolgende Query gibt die aktuelle Ausgabe des Bundesblatts zurück:",
      "metadata": {}
    },
    {
      "cell_type": "code",
      "source": "df = await query(\"\"\"\n\nPREFIX skos: <http://www.w3.org/2004/02/skos/core#>\nPREFIX purl: <http://purl.org/dc/terms/>\nPREFIX jolux: <http://data.legilux.public.lu/resource/ontology/jolux#>\n\nSELECT DISTINCT * WHERE {\n    ?fga jolux:isMemberOf* <https://fedlex.data.admin.ch/eli/collection/fga>;\n        jolux:publicationDate ?date.\n} ORDER BY desc(?date) LIMIT 1\n\n\"\"\", \"F\")\n\ndisplay_result(df)",
      "metadata": {
        "trusted": true
      },
      "execution_count": 89,
      "outputs": [
        {
          "output_type": "display_data",
          "data": {
            "text/plain": "<IPython.core.display.HTML object>",
            "text/html": "<table border=\"1\" class=\"dataframe\">\n  <thead>\n    <tr style=\"text-align: right;\">\n      <th></th>\n      <th>fga</th>\n      <th>date</th>\n    </tr>\n  </thead>\n  <tbody>\n    <tr>\n      <th>0</th>\n      <td><a href=\"https://fedlex.data.admin.ch/eli/collection/fga/2023/30\" target=\"_blank\">https://fedlex.data.admin.ch/eli/collection/fga/2023/30</a></td>\n      <td>2023-02-14</td>\n    </tr>\n  </tbody>\n</table>"
          },
          "metadata": {}
        }
      ]
    },
    {
      "cell_type": "markdown",
      "source": "### Amtliche Sammlung\n\nIn einem weiteren Schritt geht es darum, den Aufbau der Daten unter https://fedlex.data.admin.ch besser zu verstehen. Ein guter Einstiegspunkt ist die Suche unter https://fedlex.admin.ch. Wenn wir dort in der systematischen Rechtssammlung nach der Bundesverfassung suchen, gelangen wir auf die Seite https://www.fedlex.admin.ch/eli/oc/1999/404. Das ist auch gerade die URI der Bundesverfassung.\n\nWir können nun eine SPARQL Query schreiben, mit der wir danach suchen wollen, wo die Bundesverfassung überall auf der Subjekt-Position vorkommt, um weiter ins Datenmodell einzutauchen. Wir fragen also danach, welche Metadaten zur Bundesverfassung gespeichert sind:",
      "metadata": {}
    },
    {
      "cell_type": "code",
      "source": "df = await query(\"\"\"\n\nPREFIX rdf: <http://www.w3.org/1999/02/22-rdf-syntax-ns#>\nPREFIX rdfs: <http://www.w3.org/2000/01/rdf-schema#>\nPREFIX jolux: <http://data.legilux.public.lu/resource/ontology/jolux#>\nPREFIX skos: <http://www.w3.org/2004/02/skos/core#>\n\nSELECT DISTINCT *  WHERE {\n  <https://fedlex.data.admin.ch/eli/oc/1999/404> ?p ?o.\n} \n\n\"\"\", \"F\")\n\ndisplay_result(df)",
      "metadata": {
        "trusted": true
      },
      "execution_count": 90,
      "outputs": [
        {
          "output_type": "display_data",
          "data": {
            "text/plain": "<IPython.core.display.HTML object>",
            "text/html": "<table border=\"1\" class=\"dataframe\">\n  <thead>\n    <tr style=\"text-align: right;\">\n      <th></th>\n      <th>p</th>\n      <th>o</th>\n    </tr>\n  </thead>\n  <tbody>\n    <tr>\n      <th>0</th>\n      <td><a href=\"http://www.w3.org/1999/02/22-rdf-syntax-ns#type\" target=\"_blank\">http://www.w3.org/1999/02/22-rdf-syntax-ns#type</a></td>\n      <td><a href=\"http://data.legilux.public.lu/resource/ontology/jolux#Work\" target=\"_blank\">http://data.legilux.public.lu/resource/ontology/jolux#Work</a></td>\n    </tr>\n    <tr>\n      <th>1</th>\n      <td><a href=\"http://www.w3.org/1999/02/22-rdf-syntax-ns#type\" target=\"_blank\">http://www.w3.org/1999/02/22-rdf-syntax-ns#type</a></td>\n      <td><a href=\"http://data.legilux.public.lu/resource/ontology/jolux#WorkAtOj\" target=\"_blank\">http://data.legilux.public.lu/resource/ontology/jolux#WorkAtOj</a></td>\n    </tr>\n    <tr>\n      <th>2</th>\n      <td><a href=\"http://www.w3.org/1999/02/22-rdf-syntax-ns#type\" target=\"_blank\">http://www.w3.org/1999/02/22-rdf-syntax-ns#type</a></td>\n      <td><a href=\"http://data.legilux.public.lu/resource/ontology/jolux#Act\" target=\"_blank\">http://data.legilux.public.lu/resource/ontology/jolux#Act</a></td>\n    </tr>\n    <tr>\n      <th>3</th>\n      <td><a href=\"http://data.legilux.public.lu/resource/ontology/jolux#legalResourceGenre\" target=\"_blank\">http://data.legilux.public.lu/resource/ontology/jolux#legalResourceGenre</a></td>\n      <td><a href=\"https://fedlex.data.admin.ch/vocabulary/legal-resource-genre/100\" target=\"_blank\">https://fedlex.data.admin.ch/vocabulary/legal-resource-genre/100</a></td>\n    </tr>\n    <tr>\n      <th>4</th>\n      <td><a href=\"http://data.legilux.public.lu/resource/ontology/jolux#processType\" target=\"_blank\">http://data.legilux.public.lu/resource/ontology/jolux#processType</a></td>\n      <td><a href=\"https://fedlex.data.admin.ch/vocabulary/type-procedure/ord\" target=\"_blank\">https://fedlex.data.admin.ch/vocabulary/type-procedure/ord</a></td>\n    </tr>\n    <tr>\n      <th>5</th>\n      <td><a href=\"http://data.legilux.public.lu/resource/ontology/jolux#responsibilityOf\" target=\"_blank\">http://data.legilux.public.lu/resource/ontology/jolux#responsibilityOf</a></td>\n      <td><a href=\"https://fedlex.data.admin.ch/vocabulary/legal-institution/5\" target=\"_blank\">https://fedlex.data.admin.ch/vocabulary/legal-institution/5</a></td>\n    </tr>\n    <tr>\n      <th>6</th>\n      <td><a href=\"http://data.legilux.public.lu/resource/ontology/jolux#sequenceInTheYearOfPublication\" target=\"_blank\">http://data.legilux.public.lu/resource/ontology/jolux#sequenceInTheYearOfPublication</a></td>\n      <td>404</td>\n    </tr>\n    <tr>\n      <th>7</th>\n      <td><a href=\"http://data.legilux.public.lu/resource/ontology/jolux#typeDocument\" target=\"_blank\">http://data.legilux.public.lu/resource/ontology/jolux#typeDocument</a></td>\n      <td><a href=\"https://fedlex.data.admin.ch/vocabulary/resource-type/55\" target=\"_blank\">https://fedlex.data.admin.ch/vocabulary/resource-type/55</a></td>\n    </tr>\n    <tr>\n      <th>8</th>\n      <td><a href=\"http://data.legilux.public.lu/resource/ontology/jolux#isPartOf\" target=\"_blank\">http://data.legilux.public.lu/resource/ontology/jolux#isPartOf</a></td>\n      <td><a href=\"https://fedlex.data.admin.ch/eli/collection/oc/1999/42\" target=\"_blank\">https://fedlex.data.admin.ch/eli/collection/oc/1999/42</a></td>\n    </tr>\n    <tr>\n      <th>9</th>\n      <td><a href=\"http://data.legilux.public.lu/resource/ontology/jolux#publicationDate\" target=\"_blank\">http://data.legilux.public.lu/resource/ontology/jolux#publicationDate</a></td>\n      <td>1999-10-26</td>\n    </tr>\n    <tr>\n      <th>10</th>\n      <td><a href=\"http://data.legilux.public.lu/resource/ontology/jolux#isRealizedBy\" target=\"_blank\">http://data.legilux.public.lu/resource/ontology/jolux#isRealizedBy</a></td>\n      <td><a href=\"https://fedlex.data.admin.ch/eli/oc/1999/404/de\" target=\"_blank\">https://fedlex.data.admin.ch/eli/oc/1999/404/de</a></td>\n    </tr>\n    <tr>\n      <th>11</th>\n      <td><a href=\"http://data.legilux.public.lu/resource/ontology/jolux#isRealizedBy\" target=\"_blank\">http://data.legilux.public.lu/resource/ontology/jolux#isRealizedBy</a></td>\n      <td><a href=\"https://fedlex.data.admin.ch/eli/oc/1999/404/fr\" target=\"_blank\">https://fedlex.data.admin.ch/eli/oc/1999/404/fr</a></td>\n    </tr>\n    <tr>\n      <th>12</th>\n      <td><a href=\"http://data.legilux.public.lu/resource/ontology/jolux#isRealizedBy\" target=\"_blank\">http://data.legilux.public.lu/resource/ontology/jolux#isRealizedBy</a></td>\n      <td><a href=\"https://fedlex.data.admin.ch/eli/oc/1999/404/it\" target=\"_blank\">https://fedlex.data.admin.ch/eli/oc/1999/404/it</a></td>\n    </tr>\n    <tr>\n      <th>13</th>\n      <td><a href=\"http://purl.org/dc/terms/identifier\" target=\"_blank\">http://purl.org/dc/terms/identifier</a></td>\n      <td>19995395</td>\n    </tr>\n    <tr>\n      <th>14</th>\n      <td><a href=\"http://data.legilux.public.lu/resource/ontology/jolux#classifiedByTaxonomyEntry\" target=\"_blank\">http://data.legilux.public.lu/resource/ontology/jolux#classifiedByTaxonomyEntry</a></td>\n      <td><a href=\"https://fedlex.data.admin.ch/vocabulary/legal-taxonomy/4715\" target=\"_blank\">https://fedlex.data.admin.ch/vocabulary/legal-taxonomy/4715</a></td>\n    </tr>\n    <tr>\n      <th>15</th>\n      <td><a href=\"http://data.legilux.public.lu/resource/ontology/jolux#dateEntryInForce\" target=\"_blank\">http://data.legilux.public.lu/resource/ontology/jolux#dateEntryInForce</a></td>\n      <td>2000-01-01</td>\n    </tr>\n    <tr>\n      <th>16</th>\n      <td><a href=\"http://data.legilux.public.lu/resource/ontology/jolux#dateDocument\" target=\"_blank\">http://data.legilux.public.lu/resource/ontology/jolux#dateDocument</a></td>\n      <td>1998-12-18</td>\n    </tr>\n    <tr>\n      <th>17</th>\n      <td><a href=\"http://cogni.internal.system/model#terminDate\" target=\"_blank\">http://cogni.internal.system/model#terminDate</a></td>\n      <td>1999-10-26</td>\n    </tr>\n    <tr>\n      <th>18</th>\n      <td><a href=\"http://cogni.internal.system/model#skipIndex\" target=\"_blank\">http://cogni.internal.system/model#skipIndex</a></td>\n      <td>0</td>\n    </tr>\n    <tr>\n      <th>19</th>\n      <td><a href=\"http://cogni.internal.system/model#botschaftDate\" target=\"_blank\">http://cogni.internal.system/model#botschaftDate</a></td>\n      <td>1996-11-20</td>\n    </tr>\n    <tr>\n      <th>20</th>\n      <td><a href=\"http://cogni.internal.system/model#historicalId\" target=\"_blank\">http://cogni.internal.system/model#historicalId</a></td>\n      <td>RO 1999 2556</td>\n    </tr>\n  </tbody>\n</table>"
          },
          "metadata": {}
        }
      ]
    }
  ]
}